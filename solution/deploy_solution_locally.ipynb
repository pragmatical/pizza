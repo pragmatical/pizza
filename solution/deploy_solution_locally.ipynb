{
 "cells": [
  {
   "attachments": {},
   "cell_type": "markdown",
   "metadata": {},
   "source": [
    "# Deploy Solution Locally\n",
    "\n",
    "This is a light notebook for triggering local solution deployment to manually test out key data points against the LLM-based solution."
   ]
  },
  {
   "cell_type": "code",
   "execution_count": 1,
   "metadata": {},
   "outputs": [],
   "source": [
    "from ffmodel.core.inference_endpoint import InferenceEndpoint\n",
    "\n",
    "environment_config_path = \"~/.product-search.env\""
   ]
  },
  {
   "cell_type": "code",
   "execution_count": 2,
   "metadata": {},
   "outputs": [
    {
     "name": "stderr",
     "output_type": "stream",
     "text": [
      "2023-10-09 15:51:55,427 name=ffmodel.core.inference_endpoint level=INFO Initializing inference runtime. \n",
      "2023-10-09 15:51:55,427 name=ffmodel.utils.file_logger level=INFO File Logging is disabled: SolutionConfig and DataModel will not be logged \n",
      "2023-10-09 15:51:55,428 name=ffmodel.utils.file_logger level=INFO File Logging is disabled: SolutionConfig and DataModel will not be logged \n",
      "2023-10-09 15:51:55,429 name=ffmodel.core.inference_endpoint level=METRICS solution_config \n"
     ]
    },
    {
     "name": "stdout",
     "output_type": "stream",
     "text": [
      "Loading local environment configs from file.\n",
      "Loaded 2 configs from file '/Users/jorgeluna/.product-search.env'.\n",
      "Key vault url not set. Skipping key vault client initialization.\n",
      "FFModelLogger: Logging will print to console as no AppInsight connection was provided (config `APP_INSIGHTS_CONNECTION_STRING)`.\n",
      "Requirement already satisfied: seaborn in /Users/jorgeluna/anaconda3/envs/hackpython/lib/python3.11/site-packages (from -r ../requirements.txt (line 2)) (0.13.0)\n",
      "Requirement already satisfied: pandas in /Users/jorgeluna/anaconda3/envs/hackpython/lib/python3.11/site-packages (from -r ../requirements.txt (line 3)) (2.1.0)\n",
      "Requirement already satisfied: numpy>=1.24.3 in /Users/jorgeluna/anaconda3/envs/hackpython/lib/python3.11/site-packages (from -r ../requirements.txt (line 4)) (1.25.2)\n",
      "Requirement already satisfied: matplotlib!=3.6.1,>=3.3 in /Users/jorgeluna/anaconda3/envs/hackpython/lib/python3.11/site-packages (from seaborn->-r ../requirements.txt (line 2)) (3.7.3)\n",
      "Requirement already satisfied: python-dateutil>=2.8.2 in /Users/jorgeluna/anaconda3/envs/hackpython/lib/python3.11/site-packages (from pandas->-r ../requirements.txt (line 3)) (2.8.2)\n",
      "Requirement already satisfied: pytz>=2020.1 in /Users/jorgeluna/anaconda3/envs/hackpython/lib/python3.11/site-packages (from pandas->-r ../requirements.txt (line 3)) (2023.3.post1)\n",
      "Requirement already satisfied: tzdata>=2022.1 in /Users/jorgeluna/anaconda3/envs/hackpython/lib/python3.11/site-packages (from pandas->-r ../requirements.txt (line 3)) (2023.3)\n",
      "Requirement already satisfied: contourpy>=1.0.1 in /Users/jorgeluna/anaconda3/envs/hackpython/lib/python3.11/site-packages (from matplotlib!=3.6.1,>=3.3->seaborn->-r ../requirements.txt (line 2)) (1.1.0)\n",
      "Requirement already satisfied: cycler>=0.10 in /Users/jorgeluna/anaconda3/envs/hackpython/lib/python3.11/site-packages (from matplotlib!=3.6.1,>=3.3->seaborn->-r ../requirements.txt (line 2)) (0.11.0)\n",
      "Requirement already satisfied: fonttools>=4.22.0 in /Users/jorgeluna/anaconda3/envs/hackpython/lib/python3.11/site-packages (from matplotlib!=3.6.1,>=3.3->seaborn->-r ../requirements.txt (line 2)) (4.42.1)\n",
      "Requirement already satisfied: kiwisolver>=1.0.1 in /Users/jorgeluna/anaconda3/envs/hackpython/lib/python3.11/site-packages (from matplotlib!=3.6.1,>=3.3->seaborn->-r ../requirements.txt (line 2)) (1.4.5)\n",
      "Requirement already satisfied: packaging>=20.0 in /Users/jorgeluna/anaconda3/envs/hackpython/lib/python3.11/site-packages (from matplotlib!=3.6.1,>=3.3->seaborn->-r ../requirements.txt (line 2)) (23.1)\n",
      "Requirement already satisfied: pillow>=6.2.0 in /Users/jorgeluna/anaconda3/envs/hackpython/lib/python3.11/site-packages (from matplotlib!=3.6.1,>=3.3->seaborn->-r ../requirements.txt (line 2)) (10.0.0)\n",
      "Requirement already satisfied: pyparsing>=2.3.1 in /Users/jorgeluna/anaconda3/envs/hackpython/lib/python3.11/site-packages (from matplotlib!=3.6.1,>=3.3->seaborn->-r ../requirements.txt (line 2)) (3.1.1)\n",
      "Requirement already satisfied: six>=1.5 in /Users/jorgeluna/anaconda3/envs/hackpython/lib/python3.11/site-packages (from python-dateutil>=2.8.2->pandas->-r ../requirements.txt (line 3)) (1.16.0)\n"
     ]
    },
    {
     "name": "stderr",
     "output_type": "stream",
     "text": [
      "2023-10-09 15:51:58,594 name=ffmodel.core.inference_endpoint level=INFO Inference runtime initialized. \n",
      "2023-10-09 15:51:58,594 name=ffmodel.core.inference_endpoint level=INFO Downloading supporting data for solution pipeline. \n",
      "2023-10-09 15:51:58,598 name=ffmodel.core.inference_endpoint level=INFO Downloaded file names: [] \n",
      "2023-10-09 15:51:58,599 name=ffmodel.core.inference_endpoint level=INFO Initializing solution pipeline. \n",
      "2023-10-09 15:51:58,611 name=ffmodel.core.inference_endpoint level=INFO Adding reader components.readers.text_prompt to the pipeline. \n",
      "2023-10-09 15:51:58,615 name=ffmodel.core.inference_endpoint level=INFO Adding component components.pre_processors.static_context_from_file to the pipeline. \n",
      "2023-10-09 15:51:58,633 name=ffmodel.core.inference_endpoint level=INFO Adding component components.pre_processors.few_shots_from_file to the pipeline. \n",
      "2023-10-09 15:51:58,635 name=ffmodel.core.inference_endpoint level=INFO Adding component components.stitchers.openai_chat_completions to the pipeline. \n"
     ]
    },
    {
     "name": "stdout",
     "output_type": "stream",
     "text": [
      "Finished pip installing dependencies for project.\n"
     ]
    },
    {
     "name": "stderr",
     "output_type": "stream",
     "text": [
      "2023-10-09 15:51:59,025 name=ffmodel.core.inference_endpoint level=INFO Adding component components.model_callers.openai_chat_completions to the pipeline. \n",
      "2023-10-09 15:51:59,031 name=ffmodel.core.inference_endpoint level=INFO Skipping non-inference component components.evaluators.json_syntax in the pipeline. \n",
      "2023-10-09 15:51:59,033 name=ffmodel.core.inference_endpoint level=INFO Skipping non-inference component components.evaluators.semantic_similarity in the pipeline. \n",
      "2023-10-09 15:51:59,035 name=ffmodel.core.inference_endpoint level=INFO Adding writer components.writers.jsonl to the pipeline. \n",
      "2023-10-09 15:51:59,036 name=ffmodel.core.inference_endpoint level=INFO Successfully initialized solution pipeline with solution-id: 01_baseline \n"
     ]
    }
   ],
   "source": [
    "solution_config_path = \"../solution/configs/02_with_fewshots.yaml\"\n",
    "\n",
    "endpoint = InferenceEndpoint(solution_config_path, environment_config_path)"
   ]
  },
  {
   "cell_type": "code",
   "execution_count": 3,
   "metadata": {},
   "outputs": [
    {
     "name": "stderr",
     "output_type": "stream",
     "text": [
      "2023-10-09 15:52:06,231 name=ffmodel.core.inference_endpoint level=INFO Starting to process user prompt: What should I buy for a day at Schlitterbahn? \n",
      "2023-10-09 15:52:06,231 name=ffmodel.core.inference_endpoint level=INFO Executing components.pre_processors.static_context_from_file \n",
      "2023-10-09 15:52:06,232 name=ffmodel.core.inference_endpoint level=INFO Executing components.pre_processors.few_shots_from_file \n",
      "2023-10-09 15:52:06,232 name=ffmodel.core.inference_endpoint level=INFO Executing components.stitchers.openai_chat_completions \n",
      "2023-10-09 15:52:06,232 name=ffmodel.core.inference_endpoint level=INFO Executing components.model_callers.openai_chat_completions \n"
     ]
    },
    {
     "name": "stdout",
     "output_type": "stream",
     "text": [
      "yoyoyo:{'engine': 'gpt-35-turbo', 'stop': [], 'max_tokens': 500, 'temperature': 0}\n"
     ]
    },
    {
     "name": "stderr",
     "output_type": "stream",
     "text": [
      "2023-10-09 15:52:08,821 name=ffmodel.core.inference_endpoint level=INFO Executing components.writers.jsonl \n",
      "2023-10-09 15:52:08,822 name=ffmodel.core.inference_endpoint level=METRICS final_data_model \n",
      "2023-10-09 15:52:08,822 name=ffmodel.core.inference_endpoint level=INFO Final Data Model:\n",
      "{\"request\": {\"user_nl\": \"What should I buy for a day at Schlitterbahn?\", \"session_id\": null, \"session\": null, \"sequence\": null, \"complementary_data\": {}, \"metadata\": {\"solution_id\": \"01_baseline\", \"execution_mode\": \"inference\", \"run_id\": \"sweet_lobster_r991v7g7ft\", \"request_id\": null, \"sequence\": null}}, \"state\": {\"component_data\": {}, \"context\": [\"*You are a shopping assistant for Contoso store, you are helpful and cheerful, when people ask for help you recommend one or more products that they should purchase based on their questions.\\n*Results should be provided in a structured output that is json format containing the following elements\\n    *product_name\\n    *quantity\\n*If asked about anything except for product recommendations, you politely decline.\\n\"], \"completion_pairs\": [[\"I am starting a new tech job, what tools do I need\", \"{\\\"products\\\": [{\\\"product_name\\\": \\\"Laptop\\\", \\\"quantity\\\": 2}, {\\\"product_name\\\": \\\"Mouse\\\", \\\"quantity\\\": 4}, {\\\"product_name\\\": \\\"Keyboard\\\", \\\"quantity\\\": 3}]}\"], [\"What do I need to buy for my trip to the beach\", \"{\\\"products\\\": [{\\\"product_name\\\": \\\"Beachball\\\", \\\"quantity\\\": 1}, {\\\"product_name\\\": \\\"towel\\\", \\\"quantity\\\": 1}]}\"], [\"Gonna go to a soccer tournament, its gonnna be hot, what do I need in order to stay hydrated?\", \"{\\\"products\\\": [{\\\"product_name\\\": \\\"Bottled Water\\\", \\\"quantity\\\": 6}]}\"]], \"session\": [], \"user_nl\": \"What should I buy for a day at Schlitterbahn?\"}, \"model_input\": {\"prompt\": \"[\\n  {\\n    \\\"role\\\": \\\"system\\\",\\n    \\\"content\\\": \\\"*You are a shopping assistant for Contoso store, you are helpful and cheerful, when people ask for help you recommend one or more products that they should purchase based on their questions.\\\\n*Results should be provided in a structured output that is json format containing the following elements\\\\n    *product_name\\\\n    *quantity\\\\n*If asked about anything except for product recommendations, you politely decline.\\\\n\\\"\\n  },\\n  {\\n    \\\"role\\\": \\\"user\\\",\\n    \\\"content\\\": \\\"I am starting a new tech job, what tools do I need\\\"\\n  },\\n  {\\n    \\\"role\\\": \\\"assistant\\\",\\n    \\\"content\\\": \\\"{\\\\\\\"products\\\\\\\": [{\\\\\\\"product_name\\\\\\\": \\\\\\\"Laptop\\\\\\\", \\\\\\\"quantity\\\\\\\": 2}, {\\\\\\\"product_name\\\\\\\": \\\\\\\"Mouse\\\\\\\", \\\\\\\"quantity\\\\\\\": 4}, {\\\\\\\"product_name\\\\\\\": \\\\\\\"Keyboard\\\\\\\", \\\\\\\"quantity\\\\\\\": 3}]}\\\"\\n  },\\n  {\\n    \\\"role\\\": \\\"user\\\",\\n    \\\"content\\\": \\\"What do I need to buy for my trip to the beach\\\"\\n  },\\n  {\\n    \\\"role\\\": \\\"assistant\\\",\\n    \\\"content\\\": \\\"{\\\\\\\"products\\\\\\\": [{\\\\\\\"product_name\\\\\\\": \\\\\\\"Beachball\\\\\\\", \\\\\\\"quantity\\\\\\\": 1}, {\\\\\\\"product_name\\\\\\\": \\\\\\\"towel\\\\\\\", \\\\\\\"quantity\\\\\\\": 1}]}\\\"\\n  },\\n  {\\n    \\\"role\\\": \\\"user\\\",\\n    \\\"content\\\": \\\"Gonna go to a soccer tournament, its gonnna be hot, what do I need in order to stay hydrated?\\\"\\n  },\\n  {\\n    \\\"role\\\": \\\"assistant\\\",\\n    \\\"content\\\": \\\"{\\\\\\\"products\\\\\\\": [{\\\\\\\"product_name\\\\\\\": \\\\\\\"Bottled Water\\\\\\\", \\\\\\\"quantity\\\\\\\": 6}]}\\\"\\n  },\\n  {\\n    \\\"role\\\": \\\"user\\\",\\n    \\\"content\\\": \\\"$$RESET$$\\\"\\n  },\\n  {\\n    \\\"role\\\": \\\"assistant\\\",\\n    \\\"content\\\": \\\"Reset acknowledged. Previous messages will be used as a guide for correct syntax and as valid examples, but will not be considered part of the current conversation.\\\"\\n  },\\n  {\\n    \\\"role\\\": \\\"user\\\",\\n    \\\"content\\\": \\\"What should I buy for a day at Schlitterbahn?\\\"\\n  }\\n]\"}, \"model_output\": {\"completions\": [\"{\\\"products\\\": [{\\\"product_name\\\": \\\"Sunscreen\\\", \\\"quantity\\\": 1}, {\\\"product_name\\\": \\\"Towel\\\", \\\"quantity\\\": 1}, {\\\"product_name\\\": \\\"Swimsuit\\\", \\\"quantity\\\": 1}, {\\\"product_name\\\": \\\"Water Shoes\\\", \\\"quantity\\\": 1}, {\\\"product_name\\\": \\\"Sunglasses\\\", \\\"quantity\\\": 1}]}\"]}, \"log\": {}, \"error\": null} \n",
      "2023-10-09 15:52:08,823 name=ffmodel.core.inference_endpoint level=METRICS request_complete \n"
     ]
    },
    {
     "data": {
      "text/plain": [
       "['{\"products\": [{\"product_name\": \"Sunscreen\", \"quantity\": 1}, {\"product_name\": \"Towel\", \"quantity\": 1}, {\"product_name\": \"Swimsuit\", \"quantity\": 1}, {\"product_name\": \"Water Shoes\", \"quantity\": 1}, {\"product_name\": \"Sunglasses\", \"quantity\": 1}]}']"
      ]
     },
     "execution_count": 3,
     "metadata": {},
     "output_type": "execute_result"
    }
   ],
   "source": [
    "user_request = \"What should I buy for a day at Schlitterbahn?\"\n",
    "data_model = endpoint.execute(user_request)\n",
    "data_model.model_output.completions"
   ]
  },
  {
   "cell_type": "code",
   "execution_count": 4,
   "metadata": {},
   "outputs": [
    {
     "name": "stdout",
     "output_type": "stream",
     "text": [
      "['{\"products\": [{\"product_name\": \"Sunscreen\", \"quantity\": 1}, {\"product_name\": \"Towel\", \"quantity\": 1}, {\"product_name\": \"Swimsuit\", \"quantity\": 1}, {\"product_name\": \"Water Shoes\", \"quantity\": 1}, {\"product_name\": \"Sunglasses\", \"quantity\": 1}]}']\n"
     ]
    }
   ],
   "source": [
    "print(data_model.model_output.completions)"
   ]
  },
  {
   "cell_type": "code",
   "execution_count": 5,
   "metadata": {},
   "outputs": [
    {
     "name": "stdout",
     "output_type": "stream",
     "text": [
      "[\n",
      "  {\n",
      "    \"role\": \"system\",\n",
      "    \"content\": \"*You are a shopping assistant for Contoso store, you are helpful and cheerful, when people ask for help you recommend one or more products that they should purchase based on their questions.\\n*Results should be provided in a structured output that is json format containing the following elements\\n    *product_name\\n    *quantity\\n*If asked about anything except for product recommendations, you politely decline.\\n\"\n",
      "  },\n",
      "  {\n",
      "    \"role\": \"user\",\n",
      "    \"content\": \"What should I buy for a day at Schlitterbahn?\"\n",
      "  }\n",
      "]\n"
     ]
    }
   ],
   "source": [
    "print(data_model.model_input.prompt)"
   ]
  },
  {
   "cell_type": "code",
   "execution_count": 6,
   "metadata": {},
   "outputs": [
    {
     "name": "stdout",
     "output_type": "stream",
     "text": [
      "{\n",
      "    \"user_nl\": \"What should I buy for a day at Schlitterbahn?\",\n",
      "    \"session_id\": null,\n",
      "    \"session\": null,\n",
      "    \"sequence\": null,\n",
      "    \"complementary_data\": {},\n",
      "    \"metadata\": {\n",
      "        \"solution_id\": \"01_baseline\",\n",
      "        \"execution_mode\": \"inference\",\n",
      "        \"run_id\": \"serene_hook_mbjx0mfjx3\",\n",
      "        \"request_id\": null,\n",
      "        \"sequence\": null\n",
      "    }\n",
      "}\n"
     ]
    }
   ],
   "source": [
    "print(data_model.request)"
   ]
  },
  {
   "cell_type": "code",
   "execution_count": 7,
   "metadata": {},
   "outputs": [
    {
     "name": "stdout",
     "output_type": "stream",
     "text": [
      "{\n",
      "    \"request\": {\n",
      "        \"user_nl\": \"What should I buy for a day at Schlitterbahn?\",\n",
      "        \"session_id\": null,\n",
      "        \"session\": null,\n",
      "        \"sequence\": null,\n",
      "        \"complementary_data\": {},\n",
      "        \"metadata\": {\n",
      "            \"solution_id\": \"01_baseline\",\n",
      "            \"execution_mode\": \"inference\",\n",
      "            \"run_id\": \"sweet_dolphin_2464c9s8x4\",\n",
      "            \"request_id\": null,\n",
      "            \"sequence\": null\n",
      "        }\n",
      "    },\n",
      "    \"state\": {\n",
      "        \"component_data\": {},\n",
      "        \"context\": [\n",
      "            \"You are an AI assistant that helps users of an e-commerce website shop for products.\\n\"\n",
      "        ],\n",
      "        \"completion_pairs\": [],\n",
      "        \"session\": [],\n",
      "        \"user_nl\": \"What should I buy for a day at Schlitterbahn?\"\n",
      "    },\n",
      "    \"model_input\": {\n",
      "        \"prompt\": \"[\\n  {\\n    \\\"role\\\": \\\"system\\\",\\n    \\\"content\\\": \\\"You are an AI assistant that helps users of an e-commerce website shop for products.\\\\n\\\"\\n  },\\n  {\\n    \\\"role\\\": \\\"user\\\",\\n    \\\"content\\\": \\\"What should I buy for a day at Schlitterbahn?\\\"\\n  }\\n]\"\n",
      "    },\n",
      "    \"model_output\": {\n",
      "        \"completions\": [\n",
      "            \"Schlitterbahn is a water park, so you'll want to make sure you have the right gear to enjoy your day in the sun and water. Here are some suggestions:\\n\\n1. Swimsuit: Make sure you have a comfortable swimsuit that fits well and stays in place while you're riding the water slides.\\n\\n2. Sunscreen: Protect your skin from the sun's harmful rays with a high SPF sunscreen. Apply it liberally and frequently throughout the day.\\n\\n3. Water shoes: The pavement around the park can get hot, so water shoes will protect your feet and provide better traction on slippery surfaces.\\n\\n4. Towel: Bring a towel to dry off after rides and to sit on while you're taking a break.\\n\\n5. Waterproof phone case: If you want to take photos or videos while you're in the water, a waterproof phone case will keep your phone safe and dry.\\n\\n6. Snacks and water: Staying hydrated and fueled up is important, so bring plenty of water and snacks to keep you going throughout the day.\\n\\n7. Cash or credit card: You may want to buy food, drinks, or souvenirs, so make sure you have a way to pay for them.\"\n",
      "        ]\n",
      "    },\n",
      "    \"log\": {},\n",
      "    \"error\": null\n",
      "}\n"
     ]
    }
   ],
   "source": [
    "print(data_model)"
   ]
  }
 ],
 "metadata": {
  "kernelspec": {
   "display_name": "ffmodel",
   "language": "python",
   "name": "python3"
  },
  "language_info": {
   "codemirror_mode": {
    "name": "ipython",
    "version": 3
   },
   "file_extension": ".py",
   "mimetype": "text/x-python",
   "name": "python",
   "nbconvert_exporter": "python",
   "pygments_lexer": "ipython3",
   "version": "3.11.5"
  },
  "orig_nbformat": 4
 },
 "nbformat": 4,
 "nbformat_minor": 2
}
