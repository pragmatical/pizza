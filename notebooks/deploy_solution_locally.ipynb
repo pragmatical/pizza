{
 "cells": [
  {
   "attachments": {},
   "cell_type": "markdown",
   "metadata": {},
   "source": [
    "# Deploy Solution Locally\n",
    "\n",
    "This is a light notebook for triggering local solution deployment to manually test out key data points against the LLM-based solution."
   ]
  },
  {
   "cell_type": "code",
   "execution_count": 1,
   "metadata": {},
   "outputs": [
    {
     "name": "stdout",
     "output_type": "stream",
     "text": [
      "Current working directory:/Users/jorgeluna/work/ffmodel-projects/pizza/notebooks\n"
     ]
    }
   ],
   "source": [
    "import os\n",
    "\n",
    "from ffmodel.core.inference_endpoint import InferenceEndpoint\n",
    "\n",
    "print(\"Current working directory:\" + os.getcwd())\n",
    "\n",
    "environment_config_path = \"~/.product-search.env\""
   ]
  },
  {
   "cell_type": "code",
   "execution_count": 2,
   "metadata": {},
   "outputs": [
    {
     "name": "stderr",
     "output_type": "stream",
     "text": [
      "2023-10-13 10:11:04,555 name=ffmodel.core.inference_endpoint level=INFO Initializing inference runtime. \n",
      "2023-10-13 10:11:04,556 name=ffmodel.utils.file_logger level=INFO File Logging is disabled: SolutionConfig and DataModel will not be logged \n",
      "2023-10-13 10:11:04,556 name=ffmodel.utils.file_logger level=INFO File Logging is disabled: SolutionConfig and DataModel will not be logged \n",
      "2023-10-13 10:11:04,557 name=ffmodel.core.inference_endpoint level=METRICS solution_config \n",
      "2023-10-13 10:11:04,558 name=ffmodel.core.inference_endpoint level=INFO Inference runtime initialized. \n",
      "2023-10-13 10:11:04,558 name=ffmodel.core.inference_endpoint level=INFO Downloading supporting data for solution pipeline. \n",
      "2023-10-13 10:11:04,561 name=ffmodel.core.inference_endpoint level=INFO Downloaded file names: [] \n",
      "2023-10-13 10:11:04,562 name=ffmodel.core.inference_endpoint level=INFO Initializing solution pipeline. \n",
      "2023-10-13 10:11:04,590 name=ffmodel.core.inference_endpoint level=INFO Adding reader components.readers.text_prompt to the pipeline. \n",
      "2023-10-13 10:11:04,602 name=ffmodel.core.inference_endpoint level=INFO Adding component components.pre_processors.static_context_from_file to the pipeline. \n",
      "2023-10-13 10:11:04,608 name=ffmodel.core.inference_endpoint level=INFO Adding component components.stitchers.openai_chat_completions to the pipeline. \n"
     ]
    },
    {
     "name": "stdout",
     "output_type": "stream",
     "text": [
      "Loading local environment configs from file.\n",
      "Loaded 2 configs from file '/Users/jorgeluna/.product-search.env'.\n",
      "Key vault url not set. Skipping key vault client initialization.\n",
      "FFModelLogger: Logging will print to console as no AppInsight connection was provided (config `ApplicationInsightConnectionString)`.\n"
     ]
    },
    {
     "name": "stderr",
     "output_type": "stream",
     "text": [
      "2023-10-13 10:11:05,302 name=ffmodel.core.inference_endpoint level=INFO Adding component components.model_callers.openai_chat_completions to the pipeline. \n",
      "2023-10-13 10:11:05,310 name=ffmodel.core.inference_endpoint level=INFO Skipping non-inference component components.evaluators.json_schema in the pipeline. \n",
      "2023-10-13 10:11:05,422 name=ffmodel.core.inference_endpoint level=INFO Skipping non-inference component components.evaluators.fuzzy in the pipeline. \n",
      "[nltk_data] Downloading package punkt to /Users/jorgeluna/nltk_data...\n",
      "[nltk_data]   Package punkt is already up-to-date!\n",
      "2023-10-13 10:11:09,672 name=ffmodel.core.inference_endpoint level=INFO Skipping non-inference component components.evaluators.bleu in the pipeline. \n",
      "2023-10-13 10:11:09,961 name=ffmodel.core.inference_endpoint level=INFO Skipping non-inference component components.evaluators.rouge in the pipeline. \n",
      "2023-10-13 10:11:09,969 name=ffmodel.core.inference_endpoint level=INFO Adding writer components.writers.jsonl to the pipeline. \n",
      "2023-10-13 10:11:09,969 name=ffmodel.core.inference_endpoint level=INFO Successfully initialized solution pipeline with solution-id: 01 \n"
     ]
    }
   ],
   "source": [
    "solution_config_path = \"../solution/configs/01_baseline.yaml\"\n",
    "#solution_config_path = \"../solution/configs/02_with_fewshots_01 _min.yaml\"\n",
    "#solution_config_path = \"../solution/configs/03_with_fewshots_01.yaml\"\n",
    "#solution_config_path = \"../solution/configs/05_with_fewshots_02_min.yaml\"\n",
    "#solution_config_path = \"../solution/configs/04_with_fewshots_02.yaml\"\n",
    "\n",
    "endpoint = InferenceEndpoint(solution_config_path, environment_config_path)"
   ]
  },
  {
   "cell_type": "code",
   "execution_count": 3,
   "metadata": {},
   "outputs": [
    {
     "name": "stderr",
     "output_type": "stream",
     "text": [
      "2023-10-13 10:11:41,539 name=ffmodel.core.inference_endpoint level=INFO Starting to process user prompt: A couple of medium pies, pepperoni and a 2 liter coke \n",
      "2023-10-13 10:11:41,539 name=ffmodel.core.inference_endpoint level=INFO Executing components.pre_processors.static_context_from_file \n",
      "2023-10-13 10:11:41,539 name=ffmodel.core.inference_endpoint level=INFO Executing components.stitchers.openai_chat_completions \n",
      "2023-10-13 10:11:41,540 name=ffmodel.core.inference_endpoint level=INFO Executing components.model_callers.openai_chat_completions \n",
      "2023-10-13 10:11:43,373 name=ffmodel.core.inference_endpoint level=INFO Executing components.writers.jsonl \n",
      "2023-10-13 10:11:43,380 name=ffmodel.core.inference_endpoint level=METRICS final_data_model \n",
      "2023-10-13 10:11:43,381 name=ffmodel.core.inference_endpoint level=INFO Final Data Model:\n",
      "{\"request\": {\"user_nl\": \"A couple of medium pies, pepperoni and a 2 liter coke\", \"session_id\": null, \"session\": null, \"sequence\": null, \"complementary_data\": {}, \"metadata\": {\"solution_id\": \"01\", \"execution_mode\": \"inference\", \"run_id\": \"honest_knot_6rxs4xq59q\", \"request_id\": null, \"sequence\": null}}, \"state\": {\"component_data\": {}, \"context\": [\"*You are bot that takes orders at a pizza and wings restaurant\\n*You take orders in natural language and translate it to a formatted json object\\n*Results should be provided in a structured output that is json format that adheres to this schema\\n    {\\\"$schema\\\":\\\"http://json-schema.org/draft-07/schema#\\\",\\\"type\\\":\\\"array\\\",\\\"description\\\":\\\"An array of items in the order\\\",\\\"items\\\":{\\\"type\\\":\\\"object\\\",\\\"oneOf\\\":[{\\\"properties\\\":{\\\"type\\\":{\\\"const\\\":\\\"specialty pizza\\\"},\\\"name\\\":{\\\"type\\\":\\\"string\\\",\\\"description\\\":\\\"The name of the pizza\\\"},\\\"size\\\":{\\\"type\\\":\\\"string\\\",\\\"description\\\":\\\"The size of the pizza\\\"},\\\"crust\\\":{\\\"type\\\":\\\"string\\\",\\\"description\\\":\\\"The type of crust for the pizza\\\"},\\\"quantity\\\":{\\\"type\\\":\\\"integer\\\",\\\"description\\\":\\\"The quantity of the pizza in the order\\\"}},\\\"required\\\":[\\\"type\\\",\\\"name\\\",\\\"quantity\\\",\\\"size\\\",\\\"crust\\\"]},{\\\"properties\\\":{\\\"type\\\":{\\\"const\\\":\\\"custom pizza\\\"},\\\"size\\\":{\\\"type\\\":\\\"string\\\",\\\"description\\\":\\\"The size of the pizza\\\"},\\\"crust\\\":{\\\"type\\\":\\\"string\\\",\\\"description\\\":\\\"The type of crust for the pizza\\\"},\\\"quantity\\\":{\\\"type\\\":\\\"integer\\\",\\\"description\\\":\\\"The quantity of the pizza in the order\\\"},\\\"toppings\\\":{\\\"type\\\":\\\"array\\\",\\\"description\\\":\\\"An array of toppings on the pizza\\\",\\\"items\\\":{\\\"type\\\":\\\"string\\\",\\\"description\\\":\\\"The name of a topping\\\"}}},\\\"required\\\":[\\\"type\\\",\\\"size\\\",\\\"crust\\\",\\\"quantity\\\",\\\"toppings\\\"]},{\\\"properties\\\":{\\\"type\\\":{\\\"const\\\":\\\"wings\\\"},\\\"name\\\":{\\\"type\\\":\\\"string\\\",\\\"description\\\":\\\"The name of the wings\\\"},\\\"quantity\\\":{\\\"type\\\":\\\"integer\\\",\\\"description\\\":\\\"The quantity of the wings in the order\\\"},\\\"flavor\\\":{\\\"type\\\":\\\"string\\\",\\\"description\\\":\\\"The flavor of the wings\\\"}},\\\"required\\\":[\\\"type\\\",\\\"name\\\",\\\"quantity\\\",\\\"flavor\\\"]},{\\\"properties\\\":{\\\"type\\\":{\\\"const\\\":\\\"drink\\\"},\\\"name\\\":{\\\"type\\\":\\\"string\\\",\\\"description\\\":\\\"The name of the drink\\\"},\\\"quantity\\\":{\\\"type\\\":\\\"integer\\\",\\\"description\\\":\\\"The quantity of the drink in the order\\\"},\\\"size\\\":{\\\"type\\\":\\\"string\\\",\\\"description\\\":\\\"The size of the drink\\\"}},\\\"required\\\":[\\\"type\\\",\\\"name\\\",\\\"quantity\\\",\\\"size\\\"]},{\\\"properties\\\":{\\\"type\\\":{\\\"const\\\":\\\"topping\\\"},\\\"name\\\":{\\\"type\\\":\\\"string\\\",\\\"description\\\":\\\"The name of the topping\\\"},\\\"quantity\\\":{\\\"type\\\":\\\"integer\\\",\\\"description\\\":\\\"The quantity of the topping in the order\\\"}},\\\"required\\\":[\\\"type\\\",\\\"name\\\",\\\"quantity\\\"]}]}}\\n*If asked to order anything that is not related to pizza, wings, or drinks, you politely decline.\\n\"], \"completion_pairs\": [], \"session\": [], \"user_nl\": \"A couple of medium pies, pepperoni and a 2 liter coke\"}, \"model_input\": {\"prompt\": \"[\\n  {\\n    \\\"role\\\": \\\"system\\\",\\n    \\\"content\\\": \\\"*You are bot that takes orders at a pizza and wings restaurant\\\\n*You take orders in natural language and translate it to a formatted json object\\\\n*Results should be provided in a structured output that is json format that adheres to this schema\\\\n    {\\\\\\\"$schema\\\\\\\":\\\\\\\"http://json-schema.org/draft-07/schema#\\\\\\\",\\\\\\\"type\\\\\\\":\\\\\\\"array\\\\\\\",\\\\\\\"description\\\\\\\":\\\\\\\"An array of items in the order\\\\\\\",\\\\\\\"items\\\\\\\":{\\\\\\\"type\\\\\\\":\\\\\\\"object\\\\\\\",\\\\\\\"oneOf\\\\\\\":[{\\\\\\\"properties\\\\\\\":{\\\\\\\"type\\\\\\\":{\\\\\\\"const\\\\\\\":\\\\\\\"specialty pizza\\\\\\\"},\\\\\\\"name\\\\\\\":{\\\\\\\"type\\\\\\\":\\\\\\\"string\\\\\\\",\\\\\\\"description\\\\\\\":\\\\\\\"The name of the pizza\\\\\\\"},\\\\\\\"size\\\\\\\":{\\\\\\\"type\\\\\\\":\\\\\\\"string\\\\\\\",\\\\\\\"description\\\\\\\":\\\\\\\"The size of the pizza\\\\\\\"},\\\\\\\"crust\\\\\\\":{\\\\\\\"type\\\\\\\":\\\\\\\"string\\\\\\\",\\\\\\\"description\\\\\\\":\\\\\\\"The type of crust for the pizza\\\\\\\"},\\\\\\\"quantity\\\\\\\":{\\\\\\\"type\\\\\\\":\\\\\\\"integer\\\\\\\",\\\\\\\"description\\\\\\\":\\\\\\\"The quantity of the pizza in the order\\\\\\\"}},\\\\\\\"required\\\\\\\":[\\\\\\\"type\\\\\\\",\\\\\\\"name\\\\\\\",\\\\\\\"quantity\\\\\\\",\\\\\\\"size\\\\\\\",\\\\\\\"crust\\\\\\\"]},{\\\\\\\"properties\\\\\\\":{\\\\\\\"type\\\\\\\":{\\\\\\\"const\\\\\\\":\\\\\\\"custom pizza\\\\\\\"},\\\\\\\"size\\\\\\\":{\\\\\\\"type\\\\\\\":\\\\\\\"string\\\\\\\",\\\\\\\"description\\\\\\\":\\\\\\\"The size of the pizza\\\\\\\"},\\\\\\\"crust\\\\\\\":{\\\\\\\"type\\\\\\\":\\\\\\\"string\\\\\\\",\\\\\\\"description\\\\\\\":\\\\\\\"The type of crust for the pizza\\\\\\\"},\\\\\\\"quantity\\\\\\\":{\\\\\\\"type\\\\\\\":\\\\\\\"integer\\\\\\\",\\\\\\\"description\\\\\\\":\\\\\\\"The quantity of the pizza in the order\\\\\\\"},\\\\\\\"toppings\\\\\\\":{\\\\\\\"type\\\\\\\":\\\\\\\"array\\\\\\\",\\\\\\\"description\\\\\\\":\\\\\\\"An array of toppings on the pizza\\\\\\\",\\\\\\\"items\\\\\\\":{\\\\\\\"type\\\\\\\":\\\\\\\"string\\\\\\\",\\\\\\\"description\\\\\\\":\\\\\\\"The name of a topping\\\\\\\"}}},\\\\\\\"required\\\\\\\":[\\\\\\\"type\\\\\\\",\\\\\\\"size\\\\\\\",\\\\\\\"crust\\\\\\\",\\\\\\\"quantity\\\\\\\",\\\\\\\"toppings\\\\\\\"]},{\\\\\\\"properties\\\\\\\":{\\\\\\\"type\\\\\\\":{\\\\\\\"const\\\\\\\":\\\\\\\"wings\\\\\\\"},\\\\\\\"name\\\\\\\":{\\\\\\\"type\\\\\\\":\\\\\\\"string\\\\\\\",\\\\\\\"description\\\\\\\":\\\\\\\"The name of the wings\\\\\\\"},\\\\\\\"quantity\\\\\\\":{\\\\\\\"type\\\\\\\":\\\\\\\"integer\\\\\\\",\\\\\\\"description\\\\\\\":\\\\\\\"The quantity of the wings in the order\\\\\\\"},\\\\\\\"flavor\\\\\\\":{\\\\\\\"type\\\\\\\":\\\\\\\"string\\\\\\\",\\\\\\\"description\\\\\\\":\\\\\\\"The flavor of the wings\\\\\\\"}},\\\\\\\"required\\\\\\\":[\\\\\\\"type\\\\\\\",\\\\\\\"name\\\\\\\",\\\\\\\"quantity\\\\\\\",\\\\\\\"flavor\\\\\\\"]},{\\\\\\\"properties\\\\\\\":{\\\\\\\"type\\\\\\\":{\\\\\\\"const\\\\\\\":\\\\\\\"drink\\\\\\\"},\\\\\\\"name\\\\\\\":{\\\\\\\"type\\\\\\\":\\\\\\\"string\\\\\\\",\\\\\\\"description\\\\\\\":\\\\\\\"The name of the drink\\\\\\\"},\\\\\\\"quantity\\\\\\\":{\\\\\\\"type\\\\\\\":\\\\\\\"integer\\\\\\\",\\\\\\\"description\\\\\\\":\\\\\\\"The quantity of the drink in the order\\\\\\\"},\\\\\\\"size\\\\\\\":{\\\\\\\"type\\\\\\\":\\\\\\\"string\\\\\\\",\\\\\\\"description\\\\\\\":\\\\\\\"The size of the drink\\\\\\\"}},\\\\\\\"required\\\\\\\":[\\\\\\\"type\\\\\\\",\\\\\\\"name\\\\\\\",\\\\\\\"quantity\\\\\\\",\\\\\\\"size\\\\\\\"]},{\\\\\\\"properties\\\\\\\":{\\\\\\\"type\\\\\\\":{\\\\\\\"const\\\\\\\":\\\\\\\"topping\\\\\\\"},\\\\\\\"name\\\\\\\":{\\\\\\\"type\\\\\\\":\\\\\\\"string\\\\\\\",\\\\\\\"description\\\\\\\":\\\\\\\"The name of the topping\\\\\\\"},\\\\\\\"quantity\\\\\\\":{\\\\\\\"type\\\\\\\":\\\\\\\"integer\\\\\\\",\\\\\\\"description\\\\\\\":\\\\\\\"The quantity of the topping in the order\\\\\\\"}},\\\\\\\"required\\\\\\\":[\\\\\\\"type\\\\\\\",\\\\\\\"name\\\\\\\",\\\\\\\"quantity\\\\\\\"]}]}}\\\\n*If asked to order anything that is not related to pizza, wings, or drinks, you politely decline.\\\\n\\\"\\n  },\\n  {\\n    \\\"role\\\": \\\"user\\\",\\n    \\\"content\\\": \\\"A couple of medium pies, pepperoni and a 2 liter coke\\\"\\n  }\\n]\"}, \"model_output\": {\"completions\": [\"[\\n  {\\n    \\\"type\\\": \\\"specialty pizza\\\",\\n    \\\"name\\\": \\\"pepperoni\\\",\\n    \\\"size\\\": \\\"medium\\\",\\n    \\\"crust\\\": \\\"regular\\\",\\n    \\\"quantity\\\": 2\\n  },\\n  {\\n    \\\"type\\\": \\\"drink\\\",\\n    \\\"name\\\": \\\"coke\\\",\\n    \\\"size\\\": \\\"2 liter\\\",\\n    \\\"quantity\\\": 1\\n  }\\n]\"]}, \"log\": {}, \"error\": null} \n",
      "2023-10-13 10:11:43,382 name=ffmodel.core.inference_endpoint level=METRICS request_complete \n"
     ]
    },
    {
     "data": {
      "text/plain": [
       "['[\\n  {\\n    \"type\": \"specialty pizza\",\\n    \"name\": \"pepperoni\",\\n    \"size\": \"medium\",\\n    \"crust\": \"regular\",\\n    \"quantity\": 2\\n  },\\n  {\\n    \"type\": \"drink\",\\n    \"name\": \"coke\",\\n    \"size\": \"2 liter\",\\n    \"quantity\": 1\\n  }\\n]']"
      ]
     },
     "execution_count": 3,
     "metadata": {},
     "output_type": "execute_result"
    }
   ],
   "source": [
    "user_request = \"A couple of medium pies, pepperoni and a 2 liter coke\"\n",
    "data_model = endpoint.execute(user_request)\n",
    "data_model.model_output.completions"
   ]
  },
  {
   "cell_type": "code",
   "execution_count": 4,
   "metadata": {},
   "outputs": [
    {
     "name": "stdout",
     "output_type": "stream",
     "text": [
      "['[\\n  {\\n    \"type\": \"specialty pizza\",\\n    \"name\": \"pepperoni\",\\n    \"size\": \"medium\",\\n    \"crust\": \"regular\",\\n    \"quantity\": 2\\n  },\\n  {\\n    \"type\": \"drink\",\\n    \"name\": \"coke\",\\n    \"size\": \"2 liter\",\\n    \"quantity\": 1\\n  }\\n]']\n"
     ]
    }
   ],
   "source": [
    "print(data_model.model_output.completions)"
   ]
  },
  {
   "cell_type": "code",
   "execution_count": 8,
   "metadata": {},
   "outputs": [
    {
     "name": "stdout",
     "output_type": "stream",
     "text": [
      "[\n",
      "  {\n",
      "    \"role\": \"system\",\n",
      "    \"content\": \"*You are bot that takes orders at a pizza and wings restaurant\\n*You take orders in natural language and translate it to a formatted json object\\n*Results should be provided in a structured output that is json format that adheres to this schema\\n    {\\\"$schema\\\":\\\"http://json-schema.org/draft-07/schema#\\\",\\\"type\\\":\\\"array\\\",\\\"description\\\":\\\"An array of items in the order\\\",\\\"items\\\":{\\\"type\\\":\\\"object\\\",\\\"oneOf\\\":[{\\\"properties\\\":{\\\"type\\\":{\\\"const\\\":\\\"specialty pizza\\\"},\\\"name\\\":{\\\"type\\\":\\\"string\\\",\\\"description\\\":\\\"The name of the pizza\\\"},\\\"size\\\":{\\\"type\\\":\\\"string\\\",\\\"description\\\":\\\"The size of the pizza\\\"},\\\"crust\\\":{\\\"type\\\":\\\"string\\\",\\\"description\\\":\\\"The type of crust for the pizza\\\"},\\\"quantity\\\":{\\\"type\\\":\\\"integer\\\",\\\"description\\\":\\\"The quantity of the pizza in the order\\\"}},\\\"required\\\":[\\\"type\\\",\\\"name\\\",\\\"quantity\\\",\\\"size\\\",\\\"crust\\\"]},{\\\"properties\\\":{\\\"type\\\":{\\\"const\\\":\\\"custom pizza\\\"},\\\"size\\\":{\\\"type\\\":\\\"string\\\",\\\"description\\\":\\\"The size of the pizza\\\"},\\\"crust\\\":{\\\"type\\\":\\\"string\\\",\\\"description\\\":\\\"The type of crust for the pizza\\\"},\\\"quantity\\\":{\\\"type\\\":\\\"integer\\\",\\\"description\\\":\\\"The quantity of the pizza in the order\\\"},\\\"toppings\\\":{\\\"type\\\":\\\"array\\\",\\\"description\\\":\\\"An array of toppings on the pizza\\\",\\\"items\\\":{\\\"type\\\":\\\"string\\\",\\\"description\\\":\\\"The name of a topping\\\"}}},\\\"required\\\":[\\\"type\\\",\\\"size\\\",\\\"crust\\\",\\\"quantity\\\",\\\"toppings\\\"]},{\\\"properties\\\":{\\\"type\\\":{\\\"const\\\":\\\"wings\\\"},\\\"name\\\":{\\\"type\\\":\\\"string\\\",\\\"description\\\":\\\"The name of the wings\\\"},\\\"quantity\\\":{\\\"type\\\":\\\"integer\\\",\\\"description\\\":\\\"The quantity of the wings in the order\\\"},\\\"flavor\\\":{\\\"type\\\":\\\"string\\\",\\\"description\\\":\\\"The flavor of the wings\\\"}},\\\"required\\\":[\\\"type\\\",\\\"name\\\",\\\"quantity\\\",\\\"flavor\\\"]},{\\\"properties\\\":{\\\"type\\\":{\\\"const\\\":\\\"drink\\\"},\\\"name\\\":{\\\"type\\\":\\\"string\\\",\\\"description\\\":\\\"The name of the drink\\\"},\\\"quantity\\\":{\\\"type\\\":\\\"integer\\\",\\\"description\\\":\\\"The quantity of the drink in the order\\\"},\\\"size\\\":{\\\"type\\\":\\\"string\\\",\\\"description\\\":\\\"The size of the drink\\\"}},\\\"required\\\":[\\\"type\\\",\\\"name\\\",\\\"quantity\\\",\\\"size\\\"]},{\\\"properties\\\":{\\\"type\\\":{\\\"const\\\":\\\"topping\\\"},\\\"name\\\":{\\\"type\\\":\\\"string\\\",\\\"description\\\":\\\"The name of the topping\\\"},\\\"quantity\\\":{\\\"type\\\":\\\"integer\\\",\\\"description\\\":\\\"The quantity of the topping in the order\\\"}},\\\"required\\\":[\\\"type\\\",\\\"name\\\",\\\"quantity\\\"]}]}}\\n*If asked to order anything that is not related to pizza, wings, or drinks, you politely decline.\\n\"\n",
      "  },\n",
      "  {\n",
      "    \"role\": \"user\",\n",
      "    \"content\": \"A couple of medium pies, pepperoni and a 2 liter coke\"\n",
      "  }\n",
      "]\n"
     ]
    }
   ],
   "source": [
    "print(data_model.model_input.prompt)"
   ]
  },
  {
   "cell_type": "code",
   "execution_count": 9,
   "metadata": {},
   "outputs": [
    {
     "name": "stdout",
     "output_type": "stream",
     "text": [
      "{\n",
      "    \"user_nl\": \"A couple of medium pies, pepperoni and a 2 liter coke\",\n",
      "    \"session_id\": null,\n",
      "    \"session\": null,\n",
      "    \"sequence\": null,\n",
      "    \"complementary_data\": {},\n",
      "    \"metadata\": {\n",
      "        \"solution_id\": \"01\",\n",
      "        \"execution_mode\": \"inference\",\n",
      "        \"run_id\": \"mango_spade_2g7dxpww5l\",\n",
      "        \"request_id\": null,\n",
      "        \"sequence\": null\n",
      "    }\n",
      "}\n"
     ]
    }
   ],
   "source": [
    "print(data_model.request)"
   ]
  },
  {
   "cell_type": "code",
   "execution_count": 10,
   "metadata": {},
   "outputs": [
    {
     "name": "stdout",
     "output_type": "stream",
     "text": [
      "{\n",
      "    \"request\": {\n",
      "        \"user_nl\": \"A couple of medium pies, pepperoni and a 2 liter coke\",\n",
      "        \"session_id\": null,\n",
      "        \"session\": null,\n",
      "        \"sequence\": null,\n",
      "        \"complementary_data\": {},\n",
      "        \"metadata\": {\n",
      "            \"solution_id\": \"01\",\n",
      "            \"execution_mode\": \"inference\",\n",
      "            \"run_id\": \"mango_spade_2g7dxpww5l\",\n",
      "            \"request_id\": null,\n",
      "            \"sequence\": null\n",
      "        }\n",
      "    },\n",
      "    \"state\": {\n",
      "        \"component_data\": {},\n",
      "        \"context\": [\n",
      "            \"*You are bot that takes orders at a pizza and wings restaurant\\n*You take orders in natural language and translate it to a formatted json object\\n*Results should be provided in a structured output that is json format that adheres to this schema\\n    {\\\"$schema\\\":\\\"http://json-schema.org/draft-07/schema#\\\",\\\"type\\\":\\\"array\\\",\\\"description\\\":\\\"An array of items in the order\\\",\\\"items\\\":{\\\"type\\\":\\\"object\\\",\\\"oneOf\\\":[{\\\"properties\\\":{\\\"type\\\":{\\\"const\\\":\\\"specialty pizza\\\"},\\\"name\\\":{\\\"type\\\":\\\"string\\\",\\\"description\\\":\\\"The name of the pizza\\\"},\\\"size\\\":{\\\"type\\\":\\\"string\\\",\\\"description\\\":\\\"The size of the pizza\\\"},\\\"crust\\\":{\\\"type\\\":\\\"string\\\",\\\"description\\\":\\\"The type of crust for the pizza\\\"},\\\"quantity\\\":{\\\"type\\\":\\\"integer\\\",\\\"description\\\":\\\"The quantity of the pizza in the order\\\"}},\\\"required\\\":[\\\"type\\\",\\\"name\\\",\\\"quantity\\\",\\\"size\\\",\\\"crust\\\"]},{\\\"properties\\\":{\\\"type\\\":{\\\"const\\\":\\\"custom pizza\\\"},\\\"size\\\":{\\\"type\\\":\\\"string\\\",\\\"description\\\":\\\"The size of the pizza\\\"},\\\"crust\\\":{\\\"type\\\":\\\"string\\\",\\\"description\\\":\\\"The type of crust for the pizza\\\"},\\\"quantity\\\":{\\\"type\\\":\\\"integer\\\",\\\"description\\\":\\\"The quantity of the pizza in the order\\\"},\\\"toppings\\\":{\\\"type\\\":\\\"array\\\",\\\"description\\\":\\\"An array of toppings on the pizza\\\",\\\"items\\\":{\\\"type\\\":\\\"string\\\",\\\"description\\\":\\\"The name of a topping\\\"}}},\\\"required\\\":[\\\"type\\\",\\\"size\\\",\\\"crust\\\",\\\"quantity\\\",\\\"toppings\\\"]},{\\\"properties\\\":{\\\"type\\\":{\\\"const\\\":\\\"wings\\\"},\\\"name\\\":{\\\"type\\\":\\\"string\\\",\\\"description\\\":\\\"The name of the wings\\\"},\\\"quantity\\\":{\\\"type\\\":\\\"integer\\\",\\\"description\\\":\\\"The quantity of the wings in the order\\\"},\\\"flavor\\\":{\\\"type\\\":\\\"string\\\",\\\"description\\\":\\\"The flavor of the wings\\\"}},\\\"required\\\":[\\\"type\\\",\\\"name\\\",\\\"quantity\\\",\\\"flavor\\\"]},{\\\"properties\\\":{\\\"type\\\":{\\\"const\\\":\\\"drink\\\"},\\\"name\\\":{\\\"type\\\":\\\"string\\\",\\\"description\\\":\\\"The name of the drink\\\"},\\\"quantity\\\":{\\\"type\\\":\\\"integer\\\",\\\"description\\\":\\\"The quantity of the drink in the order\\\"},\\\"size\\\":{\\\"type\\\":\\\"string\\\",\\\"description\\\":\\\"The size of the drink\\\"}},\\\"required\\\":[\\\"type\\\",\\\"name\\\",\\\"quantity\\\",\\\"size\\\"]},{\\\"properties\\\":{\\\"type\\\":{\\\"const\\\":\\\"topping\\\"},\\\"name\\\":{\\\"type\\\":\\\"string\\\",\\\"description\\\":\\\"The name of the topping\\\"},\\\"quantity\\\":{\\\"type\\\":\\\"integer\\\",\\\"description\\\":\\\"The quantity of the topping in the order\\\"}},\\\"required\\\":[\\\"type\\\",\\\"name\\\",\\\"quantity\\\"]}]}}\\n*If asked to order anything that is not related to pizza, wings, or drinks, you politely decline.\\n\"\n",
      "        ],\n",
      "        \"completion_pairs\": [],\n",
      "        \"session\": [],\n",
      "        \"user_nl\": \"A couple of medium pies, pepperoni and a 2 liter coke\"\n",
      "    },\n",
      "    \"model_input\": {\n",
      "        \"prompt\": \"[\\n  {\\n    \\\"role\\\": \\\"system\\\",\\n    \\\"content\\\": \\\"*You are bot that takes orders at a pizza and wings restaurant\\\\n*You take orders in natural language and translate it to a formatted json object\\\\n*Results should be provided in a structured output that is json format that adheres to this schema\\\\n    {\\\\\\\"$schema\\\\\\\":\\\\\\\"http://json-schema.org/draft-07/schema#\\\\\\\",\\\\\\\"type\\\\\\\":\\\\\\\"array\\\\\\\",\\\\\\\"description\\\\\\\":\\\\\\\"An array of items in the order\\\\\\\",\\\\\\\"items\\\\\\\":{\\\\\\\"type\\\\\\\":\\\\\\\"object\\\\\\\",\\\\\\\"oneOf\\\\\\\":[{\\\\\\\"properties\\\\\\\":{\\\\\\\"type\\\\\\\":{\\\\\\\"const\\\\\\\":\\\\\\\"specialty pizza\\\\\\\"},\\\\\\\"name\\\\\\\":{\\\\\\\"type\\\\\\\":\\\\\\\"string\\\\\\\",\\\\\\\"description\\\\\\\":\\\\\\\"The name of the pizza\\\\\\\"},\\\\\\\"size\\\\\\\":{\\\\\\\"type\\\\\\\":\\\\\\\"string\\\\\\\",\\\\\\\"description\\\\\\\":\\\\\\\"The size of the pizza\\\\\\\"},\\\\\\\"crust\\\\\\\":{\\\\\\\"type\\\\\\\":\\\\\\\"string\\\\\\\",\\\\\\\"description\\\\\\\":\\\\\\\"The type of crust for the pizza\\\\\\\"},\\\\\\\"quantity\\\\\\\":{\\\\\\\"type\\\\\\\":\\\\\\\"integer\\\\\\\",\\\\\\\"description\\\\\\\":\\\\\\\"The quantity of the pizza in the order\\\\\\\"}},\\\\\\\"required\\\\\\\":[\\\\\\\"type\\\\\\\",\\\\\\\"name\\\\\\\",\\\\\\\"quantity\\\\\\\",\\\\\\\"size\\\\\\\",\\\\\\\"crust\\\\\\\"]},{\\\\\\\"properties\\\\\\\":{\\\\\\\"type\\\\\\\":{\\\\\\\"const\\\\\\\":\\\\\\\"custom pizza\\\\\\\"},\\\\\\\"size\\\\\\\":{\\\\\\\"type\\\\\\\":\\\\\\\"string\\\\\\\",\\\\\\\"description\\\\\\\":\\\\\\\"The size of the pizza\\\\\\\"},\\\\\\\"crust\\\\\\\":{\\\\\\\"type\\\\\\\":\\\\\\\"string\\\\\\\",\\\\\\\"description\\\\\\\":\\\\\\\"The type of crust for the pizza\\\\\\\"},\\\\\\\"quantity\\\\\\\":{\\\\\\\"type\\\\\\\":\\\\\\\"integer\\\\\\\",\\\\\\\"description\\\\\\\":\\\\\\\"The quantity of the pizza in the order\\\\\\\"},\\\\\\\"toppings\\\\\\\":{\\\\\\\"type\\\\\\\":\\\\\\\"array\\\\\\\",\\\\\\\"description\\\\\\\":\\\\\\\"An array of toppings on the pizza\\\\\\\",\\\\\\\"items\\\\\\\":{\\\\\\\"type\\\\\\\":\\\\\\\"string\\\\\\\",\\\\\\\"description\\\\\\\":\\\\\\\"The name of a topping\\\\\\\"}}},\\\\\\\"required\\\\\\\":[\\\\\\\"type\\\\\\\",\\\\\\\"size\\\\\\\",\\\\\\\"crust\\\\\\\",\\\\\\\"quantity\\\\\\\",\\\\\\\"toppings\\\\\\\"]},{\\\\\\\"properties\\\\\\\":{\\\\\\\"type\\\\\\\":{\\\\\\\"const\\\\\\\":\\\\\\\"wings\\\\\\\"},\\\\\\\"name\\\\\\\":{\\\\\\\"type\\\\\\\":\\\\\\\"string\\\\\\\",\\\\\\\"description\\\\\\\":\\\\\\\"The name of the wings\\\\\\\"},\\\\\\\"quantity\\\\\\\":{\\\\\\\"type\\\\\\\":\\\\\\\"integer\\\\\\\",\\\\\\\"description\\\\\\\":\\\\\\\"The quantity of the wings in the order\\\\\\\"},\\\\\\\"flavor\\\\\\\":{\\\\\\\"type\\\\\\\":\\\\\\\"string\\\\\\\",\\\\\\\"description\\\\\\\":\\\\\\\"The flavor of the wings\\\\\\\"}},\\\\\\\"required\\\\\\\":[\\\\\\\"type\\\\\\\",\\\\\\\"name\\\\\\\",\\\\\\\"quantity\\\\\\\",\\\\\\\"flavor\\\\\\\"]},{\\\\\\\"properties\\\\\\\":{\\\\\\\"type\\\\\\\":{\\\\\\\"const\\\\\\\":\\\\\\\"drink\\\\\\\"},\\\\\\\"name\\\\\\\":{\\\\\\\"type\\\\\\\":\\\\\\\"string\\\\\\\",\\\\\\\"description\\\\\\\":\\\\\\\"The name of the drink\\\\\\\"},\\\\\\\"quantity\\\\\\\":{\\\\\\\"type\\\\\\\":\\\\\\\"integer\\\\\\\",\\\\\\\"description\\\\\\\":\\\\\\\"The quantity of the drink in the order\\\\\\\"},\\\\\\\"size\\\\\\\":{\\\\\\\"type\\\\\\\":\\\\\\\"string\\\\\\\",\\\\\\\"description\\\\\\\":\\\\\\\"The size of the drink\\\\\\\"}},\\\\\\\"required\\\\\\\":[\\\\\\\"type\\\\\\\",\\\\\\\"name\\\\\\\",\\\\\\\"quantity\\\\\\\",\\\\\\\"size\\\\\\\"]},{\\\\\\\"properties\\\\\\\":{\\\\\\\"type\\\\\\\":{\\\\\\\"const\\\\\\\":\\\\\\\"topping\\\\\\\"},\\\\\\\"name\\\\\\\":{\\\\\\\"type\\\\\\\":\\\\\\\"string\\\\\\\",\\\\\\\"description\\\\\\\":\\\\\\\"The name of the topping\\\\\\\"},\\\\\\\"quantity\\\\\\\":{\\\\\\\"type\\\\\\\":\\\\\\\"integer\\\\\\\",\\\\\\\"description\\\\\\\":\\\\\\\"The quantity of the topping in the order\\\\\\\"}},\\\\\\\"required\\\\\\\":[\\\\\\\"type\\\\\\\",\\\\\\\"name\\\\\\\",\\\\\\\"quantity\\\\\\\"]}]}}\\\\n*If asked to order anything that is not related to pizza, wings, or drinks, you politely decline.\\\\n\\\"\\n  },\\n  {\\n    \\\"role\\\": \\\"user\\\",\\n    \\\"content\\\": \\\"A couple of medium pies, pepperoni and a 2 liter coke\\\"\\n  }\\n]\"\n",
      "    },\n",
      "    \"model_output\": {\n",
      "        \"completions\": [\n",
      "            \"[\\n  {\\n    \\\"type\\\": \\\"specialty pizza\\\",\\n    \\\"name\\\": \\\"pepperoni\\\",\\n    \\\"size\\\": \\\"medium\\\",\\n    \\\"crust\\\": \\\"regular\\\",\\n    \\\"quantity\\\": 2\\n  },\\n  {\\n    \\\"type\\\": \\\"drink\\\",\\n    \\\"name\\\": \\\"coke\\\",\\n    \\\"size\\\": \\\"2 liter\\\",\\n    \\\"quantity\\\": 1\\n  }\\n]\"\n",
      "        ]\n",
      "    },\n",
      "    \"log\": {},\n",
      "    \"error\": null\n",
      "}\n"
     ]
    }
   ],
   "source": [
    "print(data_model)"
   ]
  }
 ],
 "metadata": {
  "kernelspec": {
   "display_name": "ffmodel",
   "language": "python",
   "name": "python3"
  },
  "language_info": {
   "codemirror_mode": {
    "name": "ipython",
    "version": 3
   },
   "file_extension": ".py",
   "mimetype": "text/x-python",
   "name": "python",
   "nbconvert_exporter": "python",
   "pygments_lexer": "ipython3",
   "version": "3.10.13"
  },
  "orig_nbformat": 4
 },
 "nbformat": 4,
 "nbformat_minor": 2
}
