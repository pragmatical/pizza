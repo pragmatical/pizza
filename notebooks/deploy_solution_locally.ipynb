{
 "cells": [
  {
   "attachments": {},
   "cell_type": "markdown",
   "metadata": {},
   "source": [
    "# Deploy Solution Locally\n",
    "\n",
    "This is a light notebook for triggering local solution deployment to manually test out key data points against the LLM-based solution."
   ]
  },
  {
   "cell_type": "code",
   "execution_count": 1,
   "metadata": {},
   "outputs": [],
   "source": [
    "from ffmodel.core.inference_endpoint import InferenceEndpoint\n",
    "\n",
    "environment_config_path = \"~/.ffmodel.env\""
   ]
  },
  {
   "cell_type": "code",
   "execution_count": 2,
   "metadata": {},
   "outputs": [
    {
     "name": "stderr",
     "output_type": "stream",
     "text": [
      "2023-10-13 11:44:03,317 name=ffmodel.core.inference_endpoint level=INFO Initializing inference runtime. \n"
     ]
    },
    {
     "name": "stderr",
     "output_type": "stream",
     "text": [
      "2023-10-13 11:44:03,318 name=ffmodel.utils.file_logger level=INFO File Logging is disabled: SolutionConfig and DataModel will not be logged \n",
      "2023-10-13 11:44:03,318 name=ffmodel.utils.file_logger level=INFO File Logging is disabled: SolutionConfig and DataModel will not be logged \n",
      "2023-10-13 11:44:03,319 name=ffmodel.core.inference_endpoint level=METRICS solution_config \n",
      "2023-10-13 11:44:03,319 name=ffmodel.core.inference_endpoint level=INFO Inference runtime initialized. \n",
      "2023-10-13 11:44:03,320 name=ffmodel.core.inference_endpoint level=INFO Downloading supporting data for solution pipeline. \n",
      "2023-10-13 11:44:03,323 name=ffmodel.core.inference_endpoint level=INFO Downloaded file names: [] \n",
      "2023-10-13 11:44:03,324 name=ffmodel.core.inference_endpoint level=INFO Initializing solution pipeline. \n",
      "2023-10-13 11:44:03,331 name=ffmodel.core.inference_endpoint level=INFO Adding reader components.readers.text_prompt to the pipeline. \n",
      "2023-10-13 11:44:03,334 name=ffmodel.core.inference_endpoint level=INFO Adding component components.pre_processors.static_context_from_file to the pipeline. \n",
      "2023-10-13 11:44:03,336 name=ffmodel.core.inference_endpoint level=INFO Adding component components.pre_processors.few_shots_from_file to the pipeline. \n",
      "2023-10-13 11:44:03,338 name=ffmodel.core.inference_endpoint level=INFO Adding component components.stitchers.openai_chat_completions to the pipeline. \n"
     ]
    },
    {
     "name": "stdout",
     "output_type": "stream",
     "text": [
      "Loading local environment configs from file.\n",
      "Loaded 2 configs from file '/Users/jorgeluna/.product-search.env'.\n",
      "Key vault url not set. Skipping key vault client initialization.\n",
      "FFModelLogger: Logging will print to console as no AppInsight connection was provided (config `ApplicationInsightConnectionString)`.\n"
     ]
    },
    {
     "name": "stderr",
     "output_type": "stream",
     "text": [
      "2023-10-13 11:44:03,670 name=ffmodel.core.inference_endpoint level=INFO Adding component components.model_callers.openai_chat_completions to the pipeline. \n",
      "2023-10-13 11:44:03,672 name=ffmodel.core.inference_endpoint level=INFO Adding component components.post_processors.minify_json to the pipeline. \n",
      "2023-10-13 11:44:03,674 name=ffmodel.core.inference_endpoint level=INFO Skipping non-inference component components.evaluators.json_schema in the pipeline. \n",
      "2023-10-13 11:44:03,701 name=ffmodel.core.inference_endpoint level=INFO Skipping non-inference component components.evaluators.fuzzy in the pipeline. \n",
      "[nltk_data] Downloading package punkt to /Users/jorgeluna/nltk_data...\n",
      "[nltk_data]   Package punkt is already up-to-date!\n",
      "2023-10-13 11:44:05,111 name=ffmodel.core.inference_endpoint level=INFO Skipping non-inference component components.evaluators.bleu in the pipeline. \n",
      "2023-10-13 11:44:05,128 name=ffmodel.core.inference_endpoint level=INFO Skipping non-inference component components.evaluators.rouge in the pipeline. \n",
      "2023-10-13 11:44:05,131 name=ffmodel.core.inference_endpoint level=INFO Adding writer components.writers.jsonl to the pipeline. \n",
      "2023-10-13 11:44:05,131 name=ffmodel.core.inference_endpoint level=INFO Successfully initialized solution pipeline with solution-id: 03 \n"
     ]
    }
   ],
   "source": [
    "solution_config_path = \"../solution/configs/00_baseline.yaml\"\n",
    "#solution_config_path = \"../solution/configs/01_with_static_context_01.yaml\"\n",
    "#solution_config_path = \"../solution/configs/02_with_fewshots_01 _min.yaml\"\n",
    "#solution_config_path = \"../solution/configs/03_with_fewshots_01.yaml\"\n",
    "#solution_config_path = \"../solution/configs/05_with_fewshots_02_min.yaml\"\n",
    "#solution_config_path = \"../solution/configs/04_with_fewshots_02.yaml\"\n",
    "\n",
    "endpoint = InferenceEndpoint(solution_config_path, environment_config_path)"
   ]
  },
  {
   "cell_type": "code",
   "execution_count": 8,
   "metadata": {},
   "outputs": [
    {
     "name": "stderr",
     "output_type": "stream",
     "text": [
      "2023-10-13 11:52:26,726 name=ffmodel.core.inference_endpoint level=INFO Starting to process user prompt: user_nl='I want a large pepperoni pie and a 2 liter of coke' \n",
      "2023-10-13 11:52:26,727 name=ffmodel.core.inference_endpoint level=INFO Executing components.pre_processors.static_context_from_file \n",
      "2023-10-13 11:52:26,727 name=ffmodel.core.inference_endpoint level=INFO Executing components.pre_processors.few_shots_from_file \n",
      "2023-10-13 11:52:26,728 name=ffmodel.core.inference_endpoint level=INFO Executing components.stitchers.openai_chat_completions \n",
      "2023-10-13 11:52:26,728 name=ffmodel.core.inference_endpoint level=INFO Executing components.model_callers.openai_chat_completions \n",
      "2023-10-13 11:52:34,246 name=ffmodel.core.inference_endpoint level=INFO Executing components.post_processors.minify_json \n",
      "2023-10-13 11:52:34,246 name=ffmodel.core.inference_endpoint level=INFO Executing components.writers.jsonl \n",
      "2023-10-13 11:52:34,258 name=ffmodel.core.inference_endpoint level=METRICS final_data_model \n",
      "2023-10-13 11:52:34,259 name=ffmodel.core.inference_endpoint level=INFO Final Data Model:\n",
      "{\"request\": {\"user_nl\": \"user_nl='I want a large pepperoni pie and a 2 liter of coke'\", \"session_id\": null, \"session\": null, \"sequence\": null, \"complementary_data\": {}, \"metadata\": {\"solution_id\": \"03\", \"execution_mode\": \"inference\", \"run_id\": \"mango_watch_rvgbxss3hq\", \"request_id\": null, \"sequence\": null}}, \"state\": {\"component_data\": {}, \"context\": [\"*You are bot that takes orders at a pizza and wings restaurant\\n*You take orders in natural language and translate it to a formatted json object\\n*Results should be provided in a structured output that is json format that adheres to this schema\\n    {\\\"$schema\\\":\\\"http://json-schema.org/draft-07/schema#\\\",\\\"type\\\":\\\"array\\\",\\\"description\\\":\\\"An array of items in the order\\\",\\\"items\\\":{\\\"type\\\":\\\"object\\\",\\\"oneOf\\\":[{\\\"properties\\\":{\\\"type\\\":{\\\"const\\\":\\\"specialty pizza\\\"},\\\"name\\\":{\\\"type\\\":\\\"string\\\",\\\"description\\\":\\\"The name of the pizza\\\"},\\\"size\\\":{\\\"type\\\":\\\"string\\\",\\\"description\\\":\\\"The size of the pizza\\\"},\\\"crust\\\":{\\\"type\\\":\\\"string\\\",\\\"description\\\":\\\"The type of crust for the pizza\\\"},\\\"quantity\\\":{\\\"type\\\":\\\"integer\\\",\\\"description\\\":\\\"The quantity of the pizza in the order\\\"}},\\\"required\\\":[\\\"type\\\",\\\"name\\\",\\\"quantity\\\",\\\"size\\\",\\\"crust\\\"]},{\\\"properties\\\":{\\\"type\\\":{\\\"const\\\":\\\"custom pizza\\\"},\\\"size\\\":{\\\"type\\\":\\\"string\\\",\\\"description\\\":\\\"The size of the pizza\\\"},\\\"crust\\\":{\\\"type\\\":\\\"string\\\",\\\"description\\\":\\\"The type of crust for the pizza\\\"},\\\"quantity\\\":{\\\"type\\\":\\\"integer\\\",\\\"description\\\":\\\"The quantity of the pizza in the order\\\"},\\\"toppings\\\":{\\\"type\\\":\\\"array\\\",\\\"description\\\":\\\"An array of toppings on the pizza\\\",\\\"items\\\":{\\\"type\\\":\\\"string\\\",\\\"description\\\":\\\"The name of a topping\\\"}}},\\\"required\\\":[\\\"type\\\",\\\"size\\\",\\\"crust\\\",\\\"quantity\\\",\\\"toppings\\\"]},{\\\"properties\\\":{\\\"type\\\":{\\\"const\\\":\\\"wings\\\"},\\\"name\\\":{\\\"type\\\":\\\"string\\\",\\\"description\\\":\\\"The name of the wings\\\"},\\\"quantity\\\":{\\\"type\\\":\\\"integer\\\",\\\"description\\\":\\\"The quantity of the wings in the order\\\"},\\\"flavor\\\":{\\\"type\\\":\\\"string\\\",\\\"description\\\":\\\"The flavor of the wings\\\"}},\\\"required\\\":[\\\"type\\\",\\\"name\\\",\\\"quantity\\\",\\\"flavor\\\"]},{\\\"properties\\\":{\\\"type\\\":{\\\"const\\\":\\\"drink\\\"},\\\"name\\\":{\\\"type\\\":\\\"string\\\",\\\"description\\\":\\\"The name of the drink\\\"},\\\"quantity\\\":{\\\"type\\\":\\\"integer\\\",\\\"description\\\":\\\"The quantity of the drink in the order\\\"},\\\"size\\\":{\\\"type\\\":\\\"string\\\",\\\"description\\\":\\\"The size of the drink\\\"}},\\\"required\\\":[\\\"type\\\",\\\"name\\\",\\\"quantity\\\",\\\"size\\\"]},{\\\"properties\\\":{\\\"type\\\":{\\\"const\\\":\\\"topping\\\"},\\\"name\\\":{\\\"type\\\":\\\"string\\\",\\\"description\\\":\\\"The name of the topping\\\"},\\\"quantity\\\":{\\\"type\\\":\\\"integer\\\",\\\"description\\\":\\\"The quantity of the topping in the order\\\"}},\\\"required\\\":[\\\"type\\\",\\\"name\\\",\\\"quantity\\\"]}]}}\\n*If asked to order anything that is not related to pizza, wings, or drinks, you politely decline.\\n\"], \"completion_pairs\": [[\"Two large pepperoni and mushroom pizzas with thick crust and 1 medium thin crust veggie deluxe\", \"{\\\"items\\\": [{\\\"type\\\": \\\"specialty pizza\\\", \\\"name\\\": \\\"Veggie Deluxe\\\", \\\"size\\\": \\\"medium\\\", \\\"crust\\\": \\\"thin\\\", \\\"quantity\\\": 1}, {\\\"type\\\": \\\"custom pizza\\\", \\\"size\\\": \\\"large\\\", \\\"crust\\\": \\\"pan\\\", \\\"quantity\\\": 2, \\\"toppings\\\": [\\\"pepperoni\\\", \\\"mushrooms\\\"]}]}\"], [\"10 piece garlic parmesan wings and 2 small sprites\", \"{\\\"items\\\": [{\\\"type\\\": \\\"wings\\\", \\\"name\\\": \\\"Garlic Parmesan\\\", \\\"quantity\\\": 10, \\\"flavor\\\": \\\"mild\\\"}, {\\\"type\\\": \\\"drink\\\", \\\"name\\\": \\\"Sprite\\\", \\\"quantity\\\": 2, \\\"size\\\": \\\"small\\\"}]}\"], [\"One Hawaiian regular crust pizza and a medium thin crust with sausage, green olives, onions and jalapenos\", \"{\\\"items\\\": [{\\\"type\\\": \\\"specialty pizza\\\", \\\"name\\\": \\\"Hawaiian\\\", \\\"size\\\": \\\"large\\\", \\\"crust\\\": \\\"hand-tossed\\\", \\\"quantity\\\": 1}, {\\\"type\\\": \\\"custom pizza\\\", \\\"size\\\": \\\"medium\\\", \\\"crust\\\": \\\"thin\\\", \\\"quantity\\\": 1, \\\"toppings\\\": [\\\"sausage\\\", \\\"green olives\\\", \\\"onions\\\", \\\"jalapenos\\\"]}]}\"], [\"30 extra hot buffalo wings and a 2 liter diet coke\", \"{\\\"items\\\": [{\\\"type\\\": \\\"wings\\\", \\\"name\\\": \\\"Buffalo\\\", \\\"quantity\\\": 30, \\\"flavor\\\": \\\"extra hot\\\"}, {\\\"type\\\": \\\"drink\\\", \\\"name\\\": \\\"Diet Coke\\\", \\\"quantity\\\": 1, \\\"size\\\": \\\"2 liter\\\"}]}\"], [\"Large deep dish meat lovers and a large onion, green peppers, olives, and mushrooms also deep dish \", \"{\\\"items\\\": [{\\\"type\\\": \\\"specialty pizza\\\", \\\"name\\\": \\\"Meat Lovers\\\", \\\"size\\\": \\\"large\\\", \\\"crust\\\": \\\"deep dish\\\", \\\"quantity\\\": 1}, {\\\"type\\\": \\\"custom pizza\\\", \\\"size\\\": \\\"large\\\", \\\"crust\\\": \\\"deep dish\\\", \\\"quantity\\\": 3, \\\"toppings\\\": [\\\"onions\\\", \\\"green peppers\\\", \\\"olives\\\"]}]}\"], [\"Pizza for 2 with everything on it and a couple of sprites\", \"{\\\"items\\\": [{\\\"type\\\": \\\"drink\\\", \\\"name\\\": \\\"Fanta\\\", \\\"quantity\\\": 2, \\\"size\\\": \\\"medium\\\"}, {\\\"type\\\": \\\"specialty pizza\\\", \\\"name\\\": \\\"Supreme\\\", \\\"size\\\": \\\"medium\\\", \\\"crust\\\": \\\"thin\\\", \\\"quantity\\\": 1}]}\"]], \"session\": [], \"user_nl\": \"user_nl='I want a large pepperoni pie and a 2 liter of coke'\"}, \"model_input\": {\"prompt\": \"[\\n  {\\n    \\\"role\\\": \\\"system\\\",\\n    \\\"content\\\": \\\"*You are bot that takes orders at a pizza and wings restaurant\\\\n*You take orders in natural language and translate it to a formatted json object\\\\n*Results should be provided in a structured output that is json format that adheres to this schema\\\\n    {\\\\\\\"$schema\\\\\\\":\\\\\\\"http://json-schema.org/draft-07/schema#\\\\\\\",\\\\\\\"type\\\\\\\":\\\\\\\"array\\\\\\\",\\\\\\\"description\\\\\\\":\\\\\\\"An array of items in the order\\\\\\\",\\\\\\\"items\\\\\\\":{\\\\\\\"type\\\\\\\":\\\\\\\"object\\\\\\\",\\\\\\\"oneOf\\\\\\\":[{\\\\\\\"properties\\\\\\\":{\\\\\\\"type\\\\\\\":{\\\\\\\"const\\\\\\\":\\\\\\\"specialty pizza\\\\\\\"},\\\\\\\"name\\\\\\\":{\\\\\\\"type\\\\\\\":\\\\\\\"string\\\\\\\",\\\\\\\"description\\\\\\\":\\\\\\\"The name of the pizza\\\\\\\"},\\\\\\\"size\\\\\\\":{\\\\\\\"type\\\\\\\":\\\\\\\"string\\\\\\\",\\\\\\\"description\\\\\\\":\\\\\\\"The size of the pizza\\\\\\\"},\\\\\\\"crust\\\\\\\":{\\\\\\\"type\\\\\\\":\\\\\\\"string\\\\\\\",\\\\\\\"description\\\\\\\":\\\\\\\"The type of crust for the pizza\\\\\\\"},\\\\\\\"quantity\\\\\\\":{\\\\\\\"type\\\\\\\":\\\\\\\"integer\\\\\\\",\\\\\\\"description\\\\\\\":\\\\\\\"The quantity of the pizza in the order\\\\\\\"}},\\\\\\\"required\\\\\\\":[\\\\\\\"type\\\\\\\",\\\\\\\"name\\\\\\\",\\\\\\\"quantity\\\\\\\",\\\\\\\"size\\\\\\\",\\\\\\\"crust\\\\\\\"]},{\\\\\\\"properties\\\\\\\":{\\\\\\\"type\\\\\\\":{\\\\\\\"const\\\\\\\":\\\\\\\"custom pizza\\\\\\\"},\\\\\\\"size\\\\\\\":{\\\\\\\"type\\\\\\\":\\\\\\\"string\\\\\\\",\\\\\\\"description\\\\\\\":\\\\\\\"The size of the pizza\\\\\\\"},\\\\\\\"crust\\\\\\\":{\\\\\\\"type\\\\\\\":\\\\\\\"string\\\\\\\",\\\\\\\"description\\\\\\\":\\\\\\\"The type of crust for the pizza\\\\\\\"},\\\\\\\"quantity\\\\\\\":{\\\\\\\"type\\\\\\\":\\\\\\\"integer\\\\\\\",\\\\\\\"description\\\\\\\":\\\\\\\"The quantity of the pizza in the order\\\\\\\"},\\\\\\\"toppings\\\\\\\":{\\\\\\\"type\\\\\\\":\\\\\\\"array\\\\\\\",\\\\\\\"description\\\\\\\":\\\\\\\"An array of toppings on the pizza\\\\\\\",\\\\\\\"items\\\\\\\":{\\\\\\\"type\\\\\\\":\\\\\\\"string\\\\\\\",\\\\\\\"description\\\\\\\":\\\\\\\"The name of a topping\\\\\\\"}}},\\\\\\\"required\\\\\\\":[\\\\\\\"type\\\\\\\",\\\\\\\"size\\\\\\\",\\\\\\\"crust\\\\\\\",\\\\\\\"quantity\\\\\\\",\\\\\\\"toppings\\\\\\\"]},{\\\\\\\"properties\\\\\\\":{\\\\\\\"type\\\\\\\":{\\\\\\\"const\\\\\\\":\\\\\\\"wings\\\\\\\"},\\\\\\\"name\\\\\\\":{\\\\\\\"type\\\\\\\":\\\\\\\"string\\\\\\\",\\\\\\\"description\\\\\\\":\\\\\\\"The name of the wings\\\\\\\"},\\\\\\\"quantity\\\\\\\":{\\\\\\\"type\\\\\\\":\\\\\\\"integer\\\\\\\",\\\\\\\"description\\\\\\\":\\\\\\\"The quantity of the wings in the order\\\\\\\"},\\\\\\\"flavor\\\\\\\":{\\\\\\\"type\\\\\\\":\\\\\\\"string\\\\\\\",\\\\\\\"description\\\\\\\":\\\\\\\"The flavor of the wings\\\\\\\"}},\\\\\\\"required\\\\\\\":[\\\\\\\"type\\\\\\\",\\\\\\\"name\\\\\\\",\\\\\\\"quantity\\\\\\\",\\\\\\\"flavor\\\\\\\"]},{\\\\\\\"properties\\\\\\\":{\\\\\\\"type\\\\\\\":{\\\\\\\"const\\\\\\\":\\\\\\\"drink\\\\\\\"},\\\\\\\"name\\\\\\\":{\\\\\\\"type\\\\\\\":\\\\\\\"string\\\\\\\",\\\\\\\"description\\\\\\\":\\\\\\\"The name of the drink\\\\\\\"},\\\\\\\"quantity\\\\\\\":{\\\\\\\"type\\\\\\\":\\\\\\\"integer\\\\\\\",\\\\\\\"description\\\\\\\":\\\\\\\"The quantity of the drink in the order\\\\\\\"},\\\\\\\"size\\\\\\\":{\\\\\\\"type\\\\\\\":\\\\\\\"string\\\\\\\",\\\\\\\"description\\\\\\\":\\\\\\\"The size of the drink\\\\\\\"}},\\\\\\\"required\\\\\\\":[\\\\\\\"type\\\\\\\",\\\\\\\"name\\\\\\\",\\\\\\\"quantity\\\\\\\",\\\\\\\"size\\\\\\\"]},{\\\\\\\"properties\\\\\\\":{\\\\\\\"type\\\\\\\":{\\\\\\\"const\\\\\\\":\\\\\\\"topping\\\\\\\"},\\\\\\\"name\\\\\\\":{\\\\\\\"type\\\\\\\":\\\\\\\"string\\\\\\\",\\\\\\\"description\\\\\\\":\\\\\\\"The name of the topping\\\\\\\"},\\\\\\\"quantity\\\\\\\":{\\\\\\\"type\\\\\\\":\\\\\\\"integer\\\\\\\",\\\\\\\"description\\\\\\\":\\\\\\\"The quantity of the topping in the order\\\\\\\"}},\\\\\\\"required\\\\\\\":[\\\\\\\"type\\\\\\\",\\\\\\\"name\\\\\\\",\\\\\\\"quantity\\\\\\\"]}]}}\\\\n*If asked to order anything that is not related to pizza, wings, or drinks, you politely decline.\\\\n\\\"\\n  },\\n  {\\n    \\\"role\\\": \\\"user\\\",\\n    \\\"content\\\": \\\"Two large pepperoni and mushroom pizzas with thick crust and 1 medium thin crust veggie deluxe\\\"\\n  },\\n  {\\n    \\\"role\\\": \\\"assistant\\\",\\n    \\\"content\\\": \\\"{\\\\\\\"items\\\\\\\": [{\\\\\\\"type\\\\\\\": \\\\\\\"specialty pizza\\\\\\\", \\\\\\\"name\\\\\\\": \\\\\\\"Veggie Deluxe\\\\\\\", \\\\\\\"size\\\\\\\": \\\\\\\"medium\\\\\\\", \\\\\\\"crust\\\\\\\": \\\\\\\"thin\\\\\\\", \\\\\\\"quantity\\\\\\\": 1}, {\\\\\\\"type\\\\\\\": \\\\\\\"custom pizza\\\\\\\", \\\\\\\"size\\\\\\\": \\\\\\\"large\\\\\\\", \\\\\\\"crust\\\\\\\": \\\\\\\"pan\\\\\\\", \\\\\\\"quantity\\\\\\\": 2, \\\\\\\"toppings\\\\\\\": [\\\\\\\"pepperoni\\\\\\\", \\\\\\\"mushrooms\\\\\\\"]}]}\\\"\\n  },\\n  {\\n    \\\"role\\\": \\\"user\\\",\\n    \\\"content\\\": \\\"10 piece garlic parmesan wings and 2 small sprites\\\"\\n  },\\n  {\\n    \\\"role\\\": \\\"assistant\\\",\\n    \\\"content\\\": \\\"{\\\\\\\"items\\\\\\\": [{\\\\\\\"type\\\\\\\": \\\\\\\"wings\\\\\\\", \\\\\\\"name\\\\\\\": \\\\\\\"Garlic Parmesan\\\\\\\", \\\\\\\"quantity\\\\\\\": 10, \\\\\\\"flavor\\\\\\\": \\\\\\\"mild\\\\\\\"}, {\\\\\\\"type\\\\\\\": \\\\\\\"drink\\\\\\\", \\\\\\\"name\\\\\\\": \\\\\\\"Sprite\\\\\\\", \\\\\\\"quantity\\\\\\\": 2, \\\\\\\"size\\\\\\\": \\\\\\\"small\\\\\\\"}]}\\\"\\n  },\\n  {\\n    \\\"role\\\": \\\"user\\\",\\n    \\\"content\\\": \\\"One Hawaiian regular crust pizza and a medium thin crust with sausage, green olives, onions and jalapenos\\\"\\n  },\\n  {\\n    \\\"role\\\": \\\"assistant\\\",\\n    \\\"content\\\": \\\"{\\\\\\\"items\\\\\\\": [{\\\\\\\"type\\\\\\\": \\\\\\\"specialty pizza\\\\\\\", \\\\\\\"name\\\\\\\": \\\\\\\"Hawaiian\\\\\\\", \\\\\\\"size\\\\\\\": \\\\\\\"large\\\\\\\", \\\\\\\"crust\\\\\\\": \\\\\\\"hand-tossed\\\\\\\", \\\\\\\"quantity\\\\\\\": 1}, {\\\\\\\"type\\\\\\\": \\\\\\\"custom pizza\\\\\\\", \\\\\\\"size\\\\\\\": \\\\\\\"medium\\\\\\\", \\\\\\\"crust\\\\\\\": \\\\\\\"thin\\\\\\\", \\\\\\\"quantity\\\\\\\": 1, \\\\\\\"toppings\\\\\\\": [\\\\\\\"sausage\\\\\\\", \\\\\\\"green olives\\\\\\\", \\\\\\\"onions\\\\\\\", \\\\\\\"jalapenos\\\\\\\"]}]}\\\"\\n  },\\n  {\\n    \\\"role\\\": \\\"user\\\",\\n    \\\"content\\\": \\\"30 extra hot buffalo wings and a 2 liter diet coke\\\"\\n  },\\n  {\\n    \\\"role\\\": \\\"assistant\\\",\\n    \\\"content\\\": \\\"{\\\\\\\"items\\\\\\\": [{\\\\\\\"type\\\\\\\": \\\\\\\"wings\\\\\\\", \\\\\\\"name\\\\\\\": \\\\\\\"Buffalo\\\\\\\", \\\\\\\"quantity\\\\\\\": 30, \\\\\\\"flavor\\\\\\\": \\\\\\\"extra hot\\\\\\\"}, {\\\\\\\"type\\\\\\\": \\\\\\\"drink\\\\\\\", \\\\\\\"name\\\\\\\": \\\\\\\"Diet Coke\\\\\\\", \\\\\\\"quantity\\\\\\\": 1, \\\\\\\"size\\\\\\\": \\\\\\\"2 liter\\\\\\\"}]}\\\"\\n  },\\n  {\\n    \\\"role\\\": \\\"user\\\",\\n    \\\"content\\\": \\\"Large deep dish meat lovers and a large onion, green peppers, olives, and mushrooms also deep dish \\\"\\n  },\\n  {\\n    \\\"role\\\": \\\"assistant\\\",\\n    \\\"content\\\": \\\"{\\\\\\\"items\\\\\\\": [{\\\\\\\"type\\\\\\\": \\\\\\\"specialty pizza\\\\\\\", \\\\\\\"name\\\\\\\": \\\\\\\"Meat Lovers\\\\\\\", \\\\\\\"size\\\\\\\": \\\\\\\"large\\\\\\\", \\\\\\\"crust\\\\\\\": \\\\\\\"deep dish\\\\\\\", \\\\\\\"quantity\\\\\\\": 1}, {\\\\\\\"type\\\\\\\": \\\\\\\"custom pizza\\\\\\\", \\\\\\\"size\\\\\\\": \\\\\\\"large\\\\\\\", \\\\\\\"crust\\\\\\\": \\\\\\\"deep dish\\\\\\\", \\\\\\\"quantity\\\\\\\": 3, \\\\\\\"toppings\\\\\\\": [\\\\\\\"onions\\\\\\\", \\\\\\\"green peppers\\\\\\\", \\\\\\\"olives\\\\\\\"]}]}\\\"\\n  },\\n  {\\n    \\\"role\\\": \\\"user\\\",\\n    \\\"content\\\": \\\"Pizza for 2 with everything on it and a couple of sprites\\\"\\n  },\\n  {\\n    \\\"role\\\": \\\"assistant\\\",\\n    \\\"content\\\": \\\"{\\\\\\\"items\\\\\\\": [{\\\\\\\"type\\\\\\\": \\\\\\\"drink\\\\\\\", \\\\\\\"name\\\\\\\": \\\\\\\"Fanta\\\\\\\", \\\\\\\"quantity\\\\\\\": 2, \\\\\\\"size\\\\\\\": \\\\\\\"medium\\\\\\\"}, {\\\\\\\"type\\\\\\\": \\\\\\\"specialty pizza\\\\\\\", \\\\\\\"name\\\\\\\": \\\\\\\"Supreme\\\\\\\", \\\\\\\"size\\\\\\\": \\\\\\\"medium\\\\\\\", \\\\\\\"crust\\\\\\\": \\\\\\\"thin\\\\\\\", \\\\\\\"quantity\\\\\\\": 1}]}\\\"\\n  },\\n  {\\n    \\\"role\\\": \\\"user\\\",\\n    \\\"content\\\": \\\"$$RESET$$\\\"\\n  },\\n  {\\n    \\\"role\\\": \\\"assistant\\\",\\n    \\\"content\\\": \\\"Reset acknowledged. Previous messages will be used as a guide for correct syntax and as valid examples, but will not be considered part of the current conversation.\\\"\\n  },\\n  {\\n    \\\"role\\\": \\\"user\\\",\\n    \\\"content\\\": \\\"user_nl='I want a large pepperoni pie and a 2 liter of coke'\\\"\\n  }\\n]\"}, \"model_output\": {\"completions\": [\"import re\\n\\ndef parse_order(user_input):\\n    size_pattern = r\\\"(small|medium|large)\\\"\\n    crust_pattern = r\\\"(thin|hand-tossed|pan|deep dish)\\\"\\n    toppings_pattern = r\\\"(pepperoni|sausage|ham|bacon|chicken|beef|onions|green peppers|mushrooms|black olives|green olives|jalapenos|pineapple|anchovies|extra cheese)\\\"\\n    drink_pattern = r\\\"(coke|pepsi|sprite|fanta|mountain dew|dr pepper|diet coke|diet pepsi|diet sprite|diet fanta|diet mountain dew|diet dr pepper)\\\"\\n    quantity_pattern = r\\\"\\\\b\\\\d{1,2}\\\\b\\\"\\n    \\n    pizza_pattern = re.compile(f\\\"{size_pattern} {toppings_pattern}+ {crust_pattern} pizza\\\")\\n    wings_pattern = re.compile(f\\\"{quantity_pattern} {toppings_pattern}+ {drink_pattern}\\\")\\n    drink_pattern = re.compile(f\\\"{quantity_pattern} {drink_pattern}\\\")\\n    \\n    order = {\\\"items\\\": []}\\n    \\n    if pizza_pattern.match(user_input):\\n        pizza = {}\\n        pizza[\\\"type\\\"] = \\\"custom pizza\\\"\\n        pizza[\\\"size\\\"] = re.search(size_pattern, user_input).group()\\n        pizza[\\\"crust\\\"] = re.search(crust_pattern, user_input).group()\\n        pizza[\\\"quantity\\\"] = 1\\n        pizza[\\\"toppings\\\"] = re.findall(toppings_pattern, user_input)\\n        order[\\\"items\\\"].append(pizza)\\n        \\n    elif \\\"pizza\\\" in user_input:\\n        pizza = {}\\n        pizza[\\\"type\\\"] = \\\"specialty pizza\\\"\\n        pizza[\\\"name\\\"] = re.search(toppings_pattern, user_input).group().title() + \\\" Pizza\\\"\\n        pizza[\\\"size\\\"] = re.search(size_pattern, user_input).group()\\n        pizza[\\\"crust\\\"] = re.search(crust_pattern, user_input).group()\\n        pizza[\\\"quantity\\\"] = 1\\n        order[\\\"items\\\"].append(pizza)\\n        \\n    elif wings_pattern.match(user_input):\\n        wings = {}\\n        wings[\\\"type\\\"] = \\\"wings\\\"\\n        wings[\\\"quantity\\\"] = int(re.search(quantity_pattern, user_input).group())\\n        wings[\\\"flavor\\\"] = re.findall(toppings_pattern, user_input)[0].title()\\n        wings[\\\"name\\\"] = wings[\\\"flavor\\\"] + \\\" Wings\\\"\\n        order[\\\"items\\\"].\"]}, \"log\": {}, \"error\": null} \n",
      "2023-10-13 11:52:34,260 name=ffmodel.core.inference_endpoint level=METRICS request_complete \n"
     ]
    },
    {
     "data": {
      "text/plain": [
       "['import re\\n\\ndef parse_order(user_input):\\n    size_pattern = r\"(small|medium|large)\"\\n    crust_pattern = r\"(thin|hand-tossed|pan|deep dish)\"\\n    toppings_pattern = r\"(pepperoni|sausage|ham|bacon|chicken|beef|onions|green peppers|mushrooms|black olives|green olives|jalapenos|pineapple|anchovies|extra cheese)\"\\n    drink_pattern = r\"(coke|pepsi|sprite|fanta|mountain dew|dr pepper|diet coke|diet pepsi|diet sprite|diet fanta|diet mountain dew|diet dr pepper)\"\\n    quantity_pattern = r\"\\\\b\\\\d{1,2}\\\\b\"\\n    \\n    pizza_pattern = re.compile(f\"{size_pattern} {toppings_pattern}+ {crust_pattern} pizza\")\\n    wings_pattern = re.compile(f\"{quantity_pattern} {toppings_pattern}+ {drink_pattern}\")\\n    drink_pattern = re.compile(f\"{quantity_pattern} {drink_pattern}\")\\n    \\n    order = {\"items\": []}\\n    \\n    if pizza_pattern.match(user_input):\\n        pizza = {}\\n        pizza[\"type\"] = \"custom pizza\"\\n        pizza[\"size\"] = re.search(size_pattern, user_input).group()\\n        pizza[\"crust\"] = re.search(crust_pattern, user_input).group()\\n        pizza[\"quantity\"] = 1\\n        pizza[\"toppings\"] = re.findall(toppings_pattern, user_input)\\n        order[\"items\"].append(pizza)\\n        \\n    elif \"pizza\" in user_input:\\n        pizza = {}\\n        pizza[\"type\"] = \"specialty pizza\"\\n        pizza[\"name\"] = re.search(toppings_pattern, user_input).group().title() + \" Pizza\"\\n        pizza[\"size\"] = re.search(size_pattern, user_input).group()\\n        pizza[\"crust\"] = re.search(crust_pattern, user_input).group()\\n        pizza[\"quantity\"] = 1\\n        order[\"items\"].append(pizza)\\n        \\n    elif wings_pattern.match(user_input):\\n        wings = {}\\n        wings[\"type\"] = \"wings\"\\n        wings[\"quantity\"] = int(re.search(quantity_pattern, user_input).group())\\n        wings[\"flavor\"] = re.findall(toppings_pattern, user_input)[0].title()\\n        wings[\"name\"] = wings[\"flavor\"] + \" Wings\"\\n        order[\"items\"].']"
      ]
     },
     "execution_count": 8,
     "metadata": {},
     "output_type": "execute_result"
    }
   ],
   "source": [
    "user_request = \"user_nl='I want a large pepperoni pie and a 2 liter of coke'\"\n",
    "data_model = endpoint.execute(user_request)\n",
    "data_model.model_output.completions"
   ]
  },
  {
   "cell_type": "code",
   "execution_count": 9,
   "metadata": {},
   "outputs": [
    {
     "name": "stdout",
     "output_type": "stream",
     "text": [
      "['import re\\n\\ndef parse_order(user_input):\\n    size_pattern = r\"(small|medium|large)\"\\n    crust_pattern = r\"(thin|hand-tossed|pan|deep dish)\"\\n    toppings_pattern = r\"(pepperoni|sausage|ham|bacon|chicken|beef|onions|green peppers|mushrooms|black olives|green olives|jalapenos|pineapple|anchovies|extra cheese)\"\\n    drink_pattern = r\"(coke|pepsi|sprite|fanta|mountain dew|dr pepper|diet coke|diet pepsi|diet sprite|diet fanta|diet mountain dew|diet dr pepper)\"\\n    quantity_pattern = r\"\\\\b\\\\d{1,2}\\\\b\"\\n    \\n    pizza_pattern = re.compile(f\"{size_pattern} {toppings_pattern}+ {crust_pattern} pizza\")\\n    wings_pattern = re.compile(f\"{quantity_pattern} {toppings_pattern}+ {drink_pattern}\")\\n    drink_pattern = re.compile(f\"{quantity_pattern} {drink_pattern}\")\\n    \\n    order = {\"items\": []}\\n    \\n    if pizza_pattern.match(user_input):\\n        pizza = {}\\n        pizza[\"type\"] = \"custom pizza\"\\n        pizza[\"size\"] = re.search(size_pattern, user_input).group()\\n        pizza[\"crust\"] = re.search(crust_pattern, user_input).group()\\n        pizza[\"quantity\"] = 1\\n        pizza[\"toppings\"] = re.findall(toppings_pattern, user_input)\\n        order[\"items\"].append(pizza)\\n        \\n    elif \"pizza\" in user_input:\\n        pizza = {}\\n        pizza[\"type\"] = \"specialty pizza\"\\n        pizza[\"name\"] = re.search(toppings_pattern, user_input).group().title() + \" Pizza\"\\n        pizza[\"size\"] = re.search(size_pattern, user_input).group()\\n        pizza[\"crust\"] = re.search(crust_pattern, user_input).group()\\n        pizza[\"quantity\"] = 1\\n        order[\"items\"].append(pizza)\\n        \\n    elif wings_pattern.match(user_input):\\n        wings = {}\\n        wings[\"type\"] = \"wings\"\\n        wings[\"quantity\"] = int(re.search(quantity_pattern, user_input).group())\\n        wings[\"flavor\"] = re.findall(toppings_pattern, user_input)[0].title()\\n        wings[\"name\"] = wings[\"flavor\"] + \" Wings\"\\n        order[\"items\"].']\n"
     ]
    }
   ],
   "source": [
    "print(data_model.model_output.completions)"
   ]
  },
  {
   "cell_type": "code",
   "execution_count": 8,
   "metadata": {},
   "outputs": [
    {
     "name": "stdout",
     "output_type": "stream",
     "text": [
      "[\n",
      "  {\n",
      "    \"role\": \"system\",\n",
      "    \"content\": \"*You are bot that takes orders at a pizza and wings restaurant\\n*You take orders in natural language and translate it to a formatted json object\\n*Results should be provided in a structured output that is json format that adheres to this schema\\n    {\\\"$schema\\\":\\\"http://json-schema.org/draft-07/schema#\\\",\\\"type\\\":\\\"array\\\",\\\"description\\\":\\\"An array of items in the order\\\",\\\"items\\\":{\\\"type\\\":\\\"object\\\",\\\"oneOf\\\":[{\\\"properties\\\":{\\\"type\\\":{\\\"const\\\":\\\"specialty pizza\\\"},\\\"name\\\":{\\\"type\\\":\\\"string\\\",\\\"description\\\":\\\"The name of the pizza\\\"},\\\"size\\\":{\\\"type\\\":\\\"string\\\",\\\"description\\\":\\\"The size of the pizza\\\"},\\\"crust\\\":{\\\"type\\\":\\\"string\\\",\\\"description\\\":\\\"The type of crust for the pizza\\\"},\\\"quantity\\\":{\\\"type\\\":\\\"integer\\\",\\\"description\\\":\\\"The quantity of the pizza in the order\\\"}},\\\"required\\\":[\\\"type\\\",\\\"name\\\",\\\"quantity\\\",\\\"size\\\",\\\"crust\\\"]},{\\\"properties\\\":{\\\"type\\\":{\\\"const\\\":\\\"custom pizza\\\"},\\\"size\\\":{\\\"type\\\":\\\"string\\\",\\\"description\\\":\\\"The size of the pizza\\\"},\\\"crust\\\":{\\\"type\\\":\\\"string\\\",\\\"description\\\":\\\"The type of crust for the pizza\\\"},\\\"quantity\\\":{\\\"type\\\":\\\"integer\\\",\\\"description\\\":\\\"The quantity of the pizza in the order\\\"},\\\"toppings\\\":{\\\"type\\\":\\\"array\\\",\\\"description\\\":\\\"An array of toppings on the pizza\\\",\\\"items\\\":{\\\"type\\\":\\\"string\\\",\\\"description\\\":\\\"The name of a topping\\\"}}},\\\"required\\\":[\\\"type\\\",\\\"size\\\",\\\"crust\\\",\\\"quantity\\\",\\\"toppings\\\"]},{\\\"properties\\\":{\\\"type\\\":{\\\"const\\\":\\\"wings\\\"},\\\"name\\\":{\\\"type\\\":\\\"string\\\",\\\"description\\\":\\\"The name of the wings\\\"},\\\"quantity\\\":{\\\"type\\\":\\\"integer\\\",\\\"description\\\":\\\"The quantity of the wings in the order\\\"},\\\"flavor\\\":{\\\"type\\\":\\\"string\\\",\\\"description\\\":\\\"The flavor of the wings\\\"}},\\\"required\\\":[\\\"type\\\",\\\"name\\\",\\\"quantity\\\",\\\"flavor\\\"]},{\\\"properties\\\":{\\\"type\\\":{\\\"const\\\":\\\"drink\\\"},\\\"name\\\":{\\\"type\\\":\\\"string\\\",\\\"description\\\":\\\"The name of the drink\\\"},\\\"quantity\\\":{\\\"type\\\":\\\"integer\\\",\\\"description\\\":\\\"The quantity of the drink in the order\\\"},\\\"size\\\":{\\\"type\\\":\\\"string\\\",\\\"description\\\":\\\"The size of the drink\\\"}},\\\"required\\\":[\\\"type\\\",\\\"name\\\",\\\"quantity\\\",\\\"size\\\"]},{\\\"properties\\\":{\\\"type\\\":{\\\"const\\\":\\\"topping\\\"},\\\"name\\\":{\\\"type\\\":\\\"string\\\",\\\"description\\\":\\\"The name of the topping\\\"},\\\"quantity\\\":{\\\"type\\\":\\\"integer\\\",\\\"description\\\":\\\"The quantity of the topping in the order\\\"}},\\\"required\\\":[\\\"type\\\",\\\"name\\\",\\\"quantity\\\"]}]}}\\n*If asked to order anything that is not related to pizza, wings, or drinks, you politely decline.\\n\"\n",
      "  },\n",
      "  {\n",
      "    \"role\": \"user\",\n",
      "    \"content\": \"A couple of medium pies, pepperoni and a 2 liter coke\"\n",
      "  }\n",
      "]\n"
     ]
    }
   ],
   "source": [
    "print(data_model.model_input.prompt)"
   ]
  },
  {
   "cell_type": "code",
   "execution_count": 9,
   "metadata": {},
   "outputs": [
    {
     "name": "stdout",
     "output_type": "stream",
     "text": [
      "{\n",
      "    \"user_nl\": \"A couple of medium pies, pepperoni and a 2 liter coke\",\n",
      "    \"session_id\": null,\n",
      "    \"session\": null,\n",
      "    \"sequence\": null,\n",
      "    \"complementary_data\": {},\n",
      "    \"metadata\": {\n",
      "        \"solution_id\": \"01\",\n",
      "        \"execution_mode\": \"inference\",\n",
      "        \"run_id\": \"mango_spade_2g7dxpww5l\",\n",
      "        \"request_id\": null,\n",
      "        \"sequence\": null\n",
      "    }\n",
      "}\n"
     ]
    }
   ],
   "source": [
    "print(data_model.request)"
   ]
  },
  {
   "cell_type": "code",
   "execution_count": 10,
   "metadata": {},
   "outputs": [
    {
     "name": "stdout",
     "output_type": "stream",
     "text": [
      "{\n",
      "    \"request\": {\n",
      "        \"user_nl\": \"A couple of medium pies, pepperoni and a 2 liter coke\",\n",
      "        \"session_id\": null,\n",
      "        \"session\": null,\n",
      "        \"sequence\": null,\n",
      "        \"complementary_data\": {},\n",
      "        \"metadata\": {\n",
      "            \"solution_id\": \"01\",\n",
      "            \"execution_mode\": \"inference\",\n",
      "            \"run_id\": \"mango_spade_2g7dxpww5l\",\n",
      "            \"request_id\": null,\n",
      "            \"sequence\": null\n",
      "        }\n",
      "    },\n",
      "    \"state\": {\n",
      "        \"component_data\": {},\n",
      "        \"context\": [\n",
      "            \"*You are bot that takes orders at a pizza and wings restaurant\\n*You take orders in natural language and translate it to a formatted json object\\n*Results should be provided in a structured output that is json format that adheres to this schema\\n    {\\\"$schema\\\":\\\"http://json-schema.org/draft-07/schema#\\\",\\\"type\\\":\\\"array\\\",\\\"description\\\":\\\"An array of items in the order\\\",\\\"items\\\":{\\\"type\\\":\\\"object\\\",\\\"oneOf\\\":[{\\\"properties\\\":{\\\"type\\\":{\\\"const\\\":\\\"specialty pizza\\\"},\\\"name\\\":{\\\"type\\\":\\\"string\\\",\\\"description\\\":\\\"The name of the pizza\\\"},\\\"size\\\":{\\\"type\\\":\\\"string\\\",\\\"description\\\":\\\"The size of the pizza\\\"},\\\"crust\\\":{\\\"type\\\":\\\"string\\\",\\\"description\\\":\\\"The type of crust for the pizza\\\"},\\\"quantity\\\":{\\\"type\\\":\\\"integer\\\",\\\"description\\\":\\\"The quantity of the pizza in the order\\\"}},\\\"required\\\":[\\\"type\\\",\\\"name\\\",\\\"quantity\\\",\\\"size\\\",\\\"crust\\\"]},{\\\"properties\\\":{\\\"type\\\":{\\\"const\\\":\\\"custom pizza\\\"},\\\"size\\\":{\\\"type\\\":\\\"string\\\",\\\"description\\\":\\\"The size of the pizza\\\"},\\\"crust\\\":{\\\"type\\\":\\\"string\\\",\\\"description\\\":\\\"The type of crust for the pizza\\\"},\\\"quantity\\\":{\\\"type\\\":\\\"integer\\\",\\\"description\\\":\\\"The quantity of the pizza in the order\\\"},\\\"toppings\\\":{\\\"type\\\":\\\"array\\\",\\\"description\\\":\\\"An array of toppings on the pizza\\\",\\\"items\\\":{\\\"type\\\":\\\"string\\\",\\\"description\\\":\\\"The name of a topping\\\"}}},\\\"required\\\":[\\\"type\\\",\\\"size\\\",\\\"crust\\\",\\\"quantity\\\",\\\"toppings\\\"]},{\\\"properties\\\":{\\\"type\\\":{\\\"const\\\":\\\"wings\\\"},\\\"name\\\":{\\\"type\\\":\\\"string\\\",\\\"description\\\":\\\"The name of the wings\\\"},\\\"quantity\\\":{\\\"type\\\":\\\"integer\\\",\\\"description\\\":\\\"The quantity of the wings in the order\\\"},\\\"flavor\\\":{\\\"type\\\":\\\"string\\\",\\\"description\\\":\\\"The flavor of the wings\\\"}},\\\"required\\\":[\\\"type\\\",\\\"name\\\",\\\"quantity\\\",\\\"flavor\\\"]},{\\\"properties\\\":{\\\"type\\\":{\\\"const\\\":\\\"drink\\\"},\\\"name\\\":{\\\"type\\\":\\\"string\\\",\\\"description\\\":\\\"The name of the drink\\\"},\\\"quantity\\\":{\\\"type\\\":\\\"integer\\\",\\\"description\\\":\\\"The quantity of the drink in the order\\\"},\\\"size\\\":{\\\"type\\\":\\\"string\\\",\\\"description\\\":\\\"The size of the drink\\\"}},\\\"required\\\":[\\\"type\\\",\\\"name\\\",\\\"quantity\\\",\\\"size\\\"]},{\\\"properties\\\":{\\\"type\\\":{\\\"const\\\":\\\"topping\\\"},\\\"name\\\":{\\\"type\\\":\\\"string\\\",\\\"description\\\":\\\"The name of the topping\\\"},\\\"quantity\\\":{\\\"type\\\":\\\"integer\\\",\\\"description\\\":\\\"The quantity of the topping in the order\\\"}},\\\"required\\\":[\\\"type\\\",\\\"name\\\",\\\"quantity\\\"]}]}}\\n*If asked to order anything that is not related to pizza, wings, or drinks, you politely decline.\\n\"\n",
      "        ],\n",
      "        \"completion_pairs\": [],\n",
      "        \"session\": [],\n",
      "        \"user_nl\": \"A couple of medium pies, pepperoni and a 2 liter coke\"\n",
      "    },\n",
      "    \"model_input\": {\n",
      "        \"prompt\": \"[\\n  {\\n    \\\"role\\\": \\\"system\\\",\\n    \\\"content\\\": \\\"*You are bot that takes orders at a pizza and wings restaurant\\\\n*You take orders in natural language and translate it to a formatted json object\\\\n*Results should be provided in a structured output that is json format that adheres to this schema\\\\n    {\\\\\\\"$schema\\\\\\\":\\\\\\\"http://json-schema.org/draft-07/schema#\\\\\\\",\\\\\\\"type\\\\\\\":\\\\\\\"array\\\\\\\",\\\\\\\"description\\\\\\\":\\\\\\\"An array of items in the order\\\\\\\",\\\\\\\"items\\\\\\\":{\\\\\\\"type\\\\\\\":\\\\\\\"object\\\\\\\",\\\\\\\"oneOf\\\\\\\":[{\\\\\\\"properties\\\\\\\":{\\\\\\\"type\\\\\\\":{\\\\\\\"const\\\\\\\":\\\\\\\"specialty pizza\\\\\\\"},\\\\\\\"name\\\\\\\":{\\\\\\\"type\\\\\\\":\\\\\\\"string\\\\\\\",\\\\\\\"description\\\\\\\":\\\\\\\"The name of the pizza\\\\\\\"},\\\\\\\"size\\\\\\\":{\\\\\\\"type\\\\\\\":\\\\\\\"string\\\\\\\",\\\\\\\"description\\\\\\\":\\\\\\\"The size of the pizza\\\\\\\"},\\\\\\\"crust\\\\\\\":{\\\\\\\"type\\\\\\\":\\\\\\\"string\\\\\\\",\\\\\\\"description\\\\\\\":\\\\\\\"The type of crust for the pizza\\\\\\\"},\\\\\\\"quantity\\\\\\\":{\\\\\\\"type\\\\\\\":\\\\\\\"integer\\\\\\\",\\\\\\\"description\\\\\\\":\\\\\\\"The quantity of the pizza in the order\\\\\\\"}},\\\\\\\"required\\\\\\\":[\\\\\\\"type\\\\\\\",\\\\\\\"name\\\\\\\",\\\\\\\"quantity\\\\\\\",\\\\\\\"size\\\\\\\",\\\\\\\"crust\\\\\\\"]},{\\\\\\\"properties\\\\\\\":{\\\\\\\"type\\\\\\\":{\\\\\\\"const\\\\\\\":\\\\\\\"custom pizza\\\\\\\"},\\\\\\\"size\\\\\\\":{\\\\\\\"type\\\\\\\":\\\\\\\"string\\\\\\\",\\\\\\\"description\\\\\\\":\\\\\\\"The size of the pizza\\\\\\\"},\\\\\\\"crust\\\\\\\":{\\\\\\\"type\\\\\\\":\\\\\\\"string\\\\\\\",\\\\\\\"description\\\\\\\":\\\\\\\"The type of crust for the pizza\\\\\\\"},\\\\\\\"quantity\\\\\\\":{\\\\\\\"type\\\\\\\":\\\\\\\"integer\\\\\\\",\\\\\\\"description\\\\\\\":\\\\\\\"The quantity of the pizza in the order\\\\\\\"},\\\\\\\"toppings\\\\\\\":{\\\\\\\"type\\\\\\\":\\\\\\\"array\\\\\\\",\\\\\\\"description\\\\\\\":\\\\\\\"An array of toppings on the pizza\\\\\\\",\\\\\\\"items\\\\\\\":{\\\\\\\"type\\\\\\\":\\\\\\\"string\\\\\\\",\\\\\\\"description\\\\\\\":\\\\\\\"The name of a topping\\\\\\\"}}},\\\\\\\"required\\\\\\\":[\\\\\\\"type\\\\\\\",\\\\\\\"size\\\\\\\",\\\\\\\"crust\\\\\\\",\\\\\\\"quantity\\\\\\\",\\\\\\\"toppings\\\\\\\"]},{\\\\\\\"properties\\\\\\\":{\\\\\\\"type\\\\\\\":{\\\\\\\"const\\\\\\\":\\\\\\\"wings\\\\\\\"},\\\\\\\"name\\\\\\\":{\\\\\\\"type\\\\\\\":\\\\\\\"string\\\\\\\",\\\\\\\"description\\\\\\\":\\\\\\\"The name of the wings\\\\\\\"},\\\\\\\"quantity\\\\\\\":{\\\\\\\"type\\\\\\\":\\\\\\\"integer\\\\\\\",\\\\\\\"description\\\\\\\":\\\\\\\"The quantity of the wings in the order\\\\\\\"},\\\\\\\"flavor\\\\\\\":{\\\\\\\"type\\\\\\\":\\\\\\\"string\\\\\\\",\\\\\\\"description\\\\\\\":\\\\\\\"The flavor of the wings\\\\\\\"}},\\\\\\\"required\\\\\\\":[\\\\\\\"type\\\\\\\",\\\\\\\"name\\\\\\\",\\\\\\\"quantity\\\\\\\",\\\\\\\"flavor\\\\\\\"]},{\\\\\\\"properties\\\\\\\":{\\\\\\\"type\\\\\\\":{\\\\\\\"const\\\\\\\":\\\\\\\"drink\\\\\\\"},\\\\\\\"name\\\\\\\":{\\\\\\\"type\\\\\\\":\\\\\\\"string\\\\\\\",\\\\\\\"description\\\\\\\":\\\\\\\"The name of the drink\\\\\\\"},\\\\\\\"quantity\\\\\\\":{\\\\\\\"type\\\\\\\":\\\\\\\"integer\\\\\\\",\\\\\\\"description\\\\\\\":\\\\\\\"The quantity of the drink in the order\\\\\\\"},\\\\\\\"size\\\\\\\":{\\\\\\\"type\\\\\\\":\\\\\\\"string\\\\\\\",\\\\\\\"description\\\\\\\":\\\\\\\"The size of the drink\\\\\\\"}},\\\\\\\"required\\\\\\\":[\\\\\\\"type\\\\\\\",\\\\\\\"name\\\\\\\",\\\\\\\"quantity\\\\\\\",\\\\\\\"size\\\\\\\"]},{\\\\\\\"properties\\\\\\\":{\\\\\\\"type\\\\\\\":{\\\\\\\"const\\\\\\\":\\\\\\\"topping\\\\\\\"},\\\\\\\"name\\\\\\\":{\\\\\\\"type\\\\\\\":\\\\\\\"string\\\\\\\",\\\\\\\"description\\\\\\\":\\\\\\\"The name of the topping\\\\\\\"},\\\\\\\"quantity\\\\\\\":{\\\\\\\"type\\\\\\\":\\\\\\\"integer\\\\\\\",\\\\\\\"description\\\\\\\":\\\\\\\"The quantity of the topping in the order\\\\\\\"}},\\\\\\\"required\\\\\\\":[\\\\\\\"type\\\\\\\",\\\\\\\"name\\\\\\\",\\\\\\\"quantity\\\\\\\"]}]}}\\\\n*If asked to order anything that is not related to pizza, wings, or drinks, you politely decline.\\\\n\\\"\\n  },\\n  {\\n    \\\"role\\\": \\\"user\\\",\\n    \\\"content\\\": \\\"A couple of medium pies, pepperoni and a 2 liter coke\\\"\\n  }\\n]\"\n",
      "    },\n",
      "    \"model_output\": {\n",
      "        \"completions\": [\n",
      "            \"[\\n  {\\n    \\\"type\\\": \\\"specialty pizza\\\",\\n    \\\"name\\\": \\\"pepperoni\\\",\\n    \\\"size\\\": \\\"medium\\\",\\n    \\\"crust\\\": \\\"regular\\\",\\n    \\\"quantity\\\": 2\\n  },\\n  {\\n    \\\"type\\\": \\\"drink\\\",\\n    \\\"name\\\": \\\"coke\\\",\\n    \\\"size\\\": \\\"2 liter\\\",\\n    \\\"quantity\\\": 1\\n  }\\n]\"\n",
      "        ]\n",
      "    },\n",
      "    \"log\": {},\n",
      "    \"error\": null\n",
      "}\n"
     ]
    }
   ],
   "source": [
    "print(data_model)"
   ]
  }
 ],
 "metadata": {
  "kernelspec": {
   "display_name": "ffmodel",
   "language": "python",
   "name": "python3"
  },
  "language_info": {
   "codemirror_mode": {
    "name": "ipython",
    "version": 3
   },
   "file_extension": ".py",
   "mimetype": "text/x-python",
   "name": "python",
   "nbconvert_exporter": "python",
   "pygments_lexer": "ipython3",
   "version": "3.10.13"
  },
  "orig_nbformat": 4
 },
 "nbformat": 4,
 "nbformat_minor": 2
}
