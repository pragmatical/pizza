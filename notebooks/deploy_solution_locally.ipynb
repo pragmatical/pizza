{
 "cells": [
  {
   "attachments": {},
   "cell_type": "markdown",
   "metadata": {},
   "source": [
    "# Deploy Solution Locally\n",
    "\n",
    "This is a light notebook for triggering local solution deployment to manually test out key data points against the LLM-based solution."
   ]
  },
  {
   "cell_type": "code",
   "execution_count": 4,
   "metadata": {},
   "outputs": [],
   "source": [
    "from ffmodel.core.inference_endpoint import InferenceEndpoint\n",
    "\n",
    "environment_config_path = \"~/.ffmodel.env\""
   ]
  },
  {
   "cell_type": "code",
   "execution_count": 5,
   "metadata": {},
   "outputs": [
    {
     "name": "stderr",
     "output_type": "stream",
     "text": [
      "2023-10-16 11:54:03,963 name=ffmodel.core.inference_endpoint level=INFO Initializing inference runtime. \n",
      "2023-10-16 11:54:03,965 name=ffmodel.utils.file_logger level=INFO File Logging is disabled: SolutionConfig and DataModel will not be logged \n",
      "2023-10-16 11:54:03,966 name=ffmodel.utils.file_logger level=INFO File Logging is disabled: SolutionConfig and DataModel will not be logged \n",
      "2023-10-16 11:54:03,967 name=ffmodel.core.inference_endpoint level=METRICS solution_config \n",
      "2023-10-16 11:54:03,968 name=ffmodel.core.inference_endpoint level=INFO Inference runtime initialized. \n",
      "2023-10-16 11:54:03,968 name=ffmodel.core.inference_endpoint level=INFO Downloading supporting data for solution pipeline. \n",
      "2023-10-16 11:54:03,971 name=ffmodel.core.inference_endpoint level=INFO Downloaded file names: [] \n",
      "2023-10-16 11:54:03,971 name=ffmodel.core.inference_endpoint level=INFO Initializing solution pipeline. \n",
      "2023-10-16 11:54:03,978 name=ffmodel.core.inference_endpoint level=INFO Adding reader components.readers.jsonl to the pipeline. \n",
      "2023-10-16 11:54:03,987 name=ffmodel.core.inference_endpoint level=INFO Adding component components.pre_processors.static_context_from_file to the pipeline. \n",
      "2023-10-16 11:54:03,988 name=ffmodel.core.inference_endpoint level=INFO Adding component components.stitchers.openai_chat_completions to the pipeline. \n",
      "2023-10-16 11:54:03,988 name=ffmodel.core.inference_endpoint level=INFO Adding component components.model_callers.openai_chat_completions to the pipeline. \n",
      "2023-10-16 11:54:03,994 name=ffmodel.core.inference_endpoint level=INFO Skipping non-inference component components.evaluators.json_schema in the pipeline. \n",
      "2023-10-16 11:54:03,995 name=ffmodel.core.inference_endpoint level=INFO Skipping non-inference component components.evaluators.fuzzy in the pipeline. \n",
      "2023-10-16 11:54:03,995 name=ffmodel.core.inference_endpoint level=INFO Skipping non-inference component components.evaluators.bleu in the pipeline. \n",
      "2023-10-16 11:54:03,996 name=ffmodel.core.inference_endpoint level=INFO Skipping non-inference component components.evaluators.rouge in the pipeline. \n",
      "2023-10-16 11:54:03,996 name=ffmodel.core.inference_endpoint level=INFO Adding writer components.writers.jsonl to the pipeline. \n",
      "2023-10-16 11:54:03,996 name=ffmodel.core.inference_endpoint level=INFO Successfully initialized solution pipeline with solution-id: 00 \n"
     ]
    },
    {
     "name": "stdout",
     "output_type": "stream",
     "text": [
      "Loading local environment configs from file.\n",
      "Loaded 2 configs from file '/Users/jorgeluna/.ffmodel.env'.\n",
      "Key vault url not set. Skipping key vault client initialization.\n"
     ]
    }
   ],
   "source": [
    "solution_config_path = \"../solution/configs/00_baseline.yaml\"\n",
    "#solution_config_path = \"../solution/configs/01_with_static_context_01.yaml\"\n",
    "#solution_config_path = \"../solution/configs/02_with_fewshots_01 _min.yaml\"\n",
    "#solution_config_path = \"../solution/configs/03_with_fewshots_01.yaml\"\n",
    "#solution_config_path = \"../solution/configs/05_with_fewshots_02_min.yaml\"\n",
    "#solution_config_path = \"../solution/configs/04_with_fewshots_02.yaml\"\n",
    "\n",
    "endpoint = InferenceEndpoint(solution_config_path, environment_config_path)"
   ]
  },
  {
   "cell_type": "code",
   "execution_count": 6,
   "metadata": {},
   "outputs": [
    {
     "name": "stderr",
     "output_type": "stream",
     "text": [
      "2023-10-16 11:54:08,682 name=ffmodel.core.inference_endpoint level=INFO Starting to process user prompt: I want a large pepperoni pie and a 2 liter of coke \n",
      "2023-10-16 11:54:08,682 name=ffmodel.core.inference_endpoint level=INFO Executing components.pre_processors.static_context_from_file \n",
      "2023-10-16 11:54:08,683 name=ffmodel.core.inference_endpoint level=INFO Executing components.stitchers.openai_chat_completions \n",
      "2023-10-16 11:54:08,683 name=ffmodel.core.inference_endpoint level=INFO Executing components.model_callers.openai_chat_completions \n",
      "2023-10-16 11:54:10,166 name=ffmodel.core.inference_endpoint level=INFO Executing components.writers.jsonl \n",
      "2023-10-16 11:54:10,168 name=ffmodel.core.inference_endpoint level=INFO Final Data Model:\n",
      "{\"request\": {\"user_nl\": \"I want a large pepperoni pie and a 2 liter of coke\", \"session_id\": null, \"session\": null, \"sequence\": null, \"complementary_data\": {}, \"metadata\": {\"solution_id\": \"00\", \"execution_mode\": \"inference\", \"run_id\": \"crimson_leg_47dmj0fp7f\", \"request_id\": null, \"sequence\": null}}, \"state\": {\"component_data\": {}, \"context\": [\"*You are bot that takes orders at a pizza and wings restaurant\\n*You take orders in natural language and translate it to a formatted json object\\n*Results should be provided in a structured output that is json format that adheres to this schema\\n    {\\\"$schema\\\":\\\"http://json-schema.org/draft-07/schema#\\\",\\\"type\\\":\\\"array\\\",\\\"description\\\":\\\"An array of items in the order\\\",\\\"items\\\":{\\\"type\\\":\\\"object\\\",\\\"oneOf\\\":[{\\\"properties\\\":{\\\"type\\\":{\\\"const\\\":\\\"specialty pizza\\\"},\\\"name\\\":{\\\"type\\\":\\\"string\\\",\\\"description\\\":\\\"The name of the pizza\\\"},\\\"size\\\":{\\\"type\\\":\\\"string\\\",\\\"description\\\":\\\"The size of the pizza\\\"},\\\"crust\\\":{\\\"type\\\":\\\"string\\\",\\\"description\\\":\\\"The type of crust for the pizza\\\"},\\\"quantity\\\":{\\\"type\\\":\\\"integer\\\",\\\"description\\\":\\\"The quantity of the pizza in the order\\\"}},\\\"required\\\":[\\\"type\\\",\\\"name\\\",\\\"quantity\\\",\\\"size\\\",\\\"crust\\\"]},{\\\"properties\\\":{\\\"type\\\":{\\\"const\\\":\\\"custom pizza\\\"},\\\"size\\\":{\\\"type\\\":\\\"string\\\",\\\"description\\\":\\\"The size of the pizza\\\"},\\\"crust\\\":{\\\"type\\\":\\\"string\\\",\\\"description\\\":\\\"The type of crust for the pizza\\\"},\\\"quantity\\\":{\\\"type\\\":\\\"integer\\\",\\\"description\\\":\\\"The quantity of the pizza in the order\\\"},\\\"toppings\\\":{\\\"type\\\":\\\"array\\\",\\\"description\\\":\\\"An array of toppings on the pizza\\\",\\\"items\\\":{\\\"type\\\":\\\"string\\\",\\\"description\\\":\\\"The name of a topping\\\"}}},\\\"required\\\":[\\\"type\\\",\\\"size\\\",\\\"crust\\\",\\\"quantity\\\",\\\"toppings\\\"]},{\\\"properties\\\":{\\\"type\\\":{\\\"const\\\":\\\"wings\\\"},\\\"name\\\":{\\\"type\\\":\\\"string\\\",\\\"description\\\":\\\"The name of the wings\\\"},\\\"quantity\\\":{\\\"type\\\":\\\"integer\\\",\\\"description\\\":\\\"The quantity of the wings in the order\\\"},\\\"flavor\\\":{\\\"type\\\":\\\"string\\\",\\\"description\\\":\\\"The flavor of the wings\\\"}},\\\"required\\\":[\\\"type\\\",\\\"name\\\",\\\"quantity\\\",\\\"flavor\\\"]},{\\\"properties\\\":{\\\"type\\\":{\\\"const\\\":\\\"drink\\\"},\\\"name\\\":{\\\"type\\\":\\\"string\\\",\\\"description\\\":\\\"The name of the drink\\\"},\\\"quantity\\\":{\\\"type\\\":\\\"integer\\\",\\\"description\\\":\\\"The quantity of the drink in the order\\\"},\\\"size\\\":{\\\"type\\\":\\\"string\\\",\\\"description\\\":\\\"The size of the drink\\\"}},\\\"required\\\":[\\\"type\\\",\\\"name\\\",\\\"quantity\\\",\\\"size\\\"]},{\\\"properties\\\":{\\\"type\\\":{\\\"const\\\":\\\"topping\\\"},\\\"name\\\":{\\\"type\\\":\\\"string\\\",\\\"description\\\":\\\"The name of the topping\\\"},\\\"quantity\\\":{\\\"type\\\":\\\"integer\\\",\\\"description\\\":\\\"The quantity of the topping in the order\\\"}},\\\"required\\\":[\\\"type\\\",\\\"name\\\",\\\"quantity\\\"]}]}}\\n*Only return the json part of the response\\n*If asked to order anything that is not related to pizza, wings, or drinks, you politely decline.\\n\"], \"completion_pairs\": [], \"session\": [], \"user_nl\": \"I want a large pepperoni pie and a 2 liter of coke\"}, \"model_input\": {\"prompt\": \"[\\n  {\\n    \\\"role\\\": \\\"system\\\",\\n    \\\"content\\\": \\\"*You are bot that takes orders at a pizza and wings restaurant\\\\n*You take orders in natural language and translate it to a formatted json object\\\\n*Results should be provided in a structured output that is json format that adheres to this schema\\\\n    {\\\\\\\"$schema\\\\\\\":\\\\\\\"http://json-schema.org/draft-07/schema#\\\\\\\",\\\\\\\"type\\\\\\\":\\\\\\\"array\\\\\\\",\\\\\\\"description\\\\\\\":\\\\\\\"An array of items in the order\\\\\\\",\\\\\\\"items\\\\\\\":{\\\\\\\"type\\\\\\\":\\\\\\\"object\\\\\\\",\\\\\\\"oneOf\\\\\\\":[{\\\\\\\"properties\\\\\\\":{\\\\\\\"type\\\\\\\":{\\\\\\\"const\\\\\\\":\\\\\\\"specialty pizza\\\\\\\"},\\\\\\\"name\\\\\\\":{\\\\\\\"type\\\\\\\":\\\\\\\"string\\\\\\\",\\\\\\\"description\\\\\\\":\\\\\\\"The name of the pizza\\\\\\\"},\\\\\\\"size\\\\\\\":{\\\\\\\"type\\\\\\\":\\\\\\\"string\\\\\\\",\\\\\\\"description\\\\\\\":\\\\\\\"The size of the pizza\\\\\\\"},\\\\\\\"crust\\\\\\\":{\\\\\\\"type\\\\\\\":\\\\\\\"string\\\\\\\",\\\\\\\"description\\\\\\\":\\\\\\\"The type of crust for the pizza\\\\\\\"},\\\\\\\"quantity\\\\\\\":{\\\\\\\"type\\\\\\\":\\\\\\\"integer\\\\\\\",\\\\\\\"description\\\\\\\":\\\\\\\"The quantity of the pizza in the order\\\\\\\"}},\\\\\\\"required\\\\\\\":[\\\\\\\"type\\\\\\\",\\\\\\\"name\\\\\\\",\\\\\\\"quantity\\\\\\\",\\\\\\\"size\\\\\\\",\\\\\\\"crust\\\\\\\"]},{\\\\\\\"properties\\\\\\\":{\\\\\\\"type\\\\\\\":{\\\\\\\"const\\\\\\\":\\\\\\\"custom pizza\\\\\\\"},\\\\\\\"size\\\\\\\":{\\\\\\\"type\\\\\\\":\\\\\\\"string\\\\\\\",\\\\\\\"description\\\\\\\":\\\\\\\"The size of the pizza\\\\\\\"},\\\\\\\"crust\\\\\\\":{\\\\\\\"type\\\\\\\":\\\\\\\"string\\\\\\\",\\\\\\\"description\\\\\\\":\\\\\\\"The type of crust for the pizza\\\\\\\"},\\\\\\\"quantity\\\\\\\":{\\\\\\\"type\\\\\\\":\\\\\\\"integer\\\\\\\",\\\\\\\"description\\\\\\\":\\\\\\\"The quantity of the pizza in the order\\\\\\\"},\\\\\\\"toppings\\\\\\\":{\\\\\\\"type\\\\\\\":\\\\\\\"array\\\\\\\",\\\\\\\"description\\\\\\\":\\\\\\\"An array of toppings on the pizza\\\\\\\",\\\\\\\"items\\\\\\\":{\\\\\\\"type\\\\\\\":\\\\\\\"string\\\\\\\",\\\\\\\"description\\\\\\\":\\\\\\\"The name of a topping\\\\\\\"}}},\\\\\\\"required\\\\\\\":[\\\\\\\"type\\\\\\\",\\\\\\\"size\\\\\\\",\\\\\\\"crust\\\\\\\",\\\\\\\"quantity\\\\\\\",\\\\\\\"toppings\\\\\\\"]},{\\\\\\\"properties\\\\\\\":{\\\\\\\"type\\\\\\\":{\\\\\\\"const\\\\\\\":\\\\\\\"wings\\\\\\\"},\\\\\\\"name\\\\\\\":{\\\\\\\"type\\\\\\\":\\\\\\\"string\\\\\\\",\\\\\\\"description\\\\\\\":\\\\\\\"The name of the wings\\\\\\\"},\\\\\\\"quantity\\\\\\\":{\\\\\\\"type\\\\\\\":\\\\\\\"integer\\\\\\\",\\\\\\\"description\\\\\\\":\\\\\\\"The quantity of the wings in the order\\\\\\\"},\\\\\\\"flavor\\\\\\\":{\\\\\\\"type\\\\\\\":\\\\\\\"string\\\\\\\",\\\\\\\"description\\\\\\\":\\\\\\\"The flavor of the wings\\\\\\\"}},\\\\\\\"required\\\\\\\":[\\\\\\\"type\\\\\\\",\\\\\\\"name\\\\\\\",\\\\\\\"quantity\\\\\\\",\\\\\\\"flavor\\\\\\\"]},{\\\\\\\"properties\\\\\\\":{\\\\\\\"type\\\\\\\":{\\\\\\\"const\\\\\\\":\\\\\\\"drink\\\\\\\"},\\\\\\\"name\\\\\\\":{\\\\\\\"type\\\\\\\":\\\\\\\"string\\\\\\\",\\\\\\\"description\\\\\\\":\\\\\\\"The name of the drink\\\\\\\"},\\\\\\\"quantity\\\\\\\":{\\\\\\\"type\\\\\\\":\\\\\\\"integer\\\\\\\",\\\\\\\"description\\\\\\\":\\\\\\\"The quantity of the drink in the order\\\\\\\"},\\\\\\\"size\\\\\\\":{\\\\\\\"type\\\\\\\":\\\\\\\"string\\\\\\\",\\\\\\\"description\\\\\\\":\\\\\\\"The size of the drink\\\\\\\"}},\\\\\\\"required\\\\\\\":[\\\\\\\"type\\\\\\\",\\\\\\\"name\\\\\\\",\\\\\\\"quantity\\\\\\\",\\\\\\\"size\\\\\\\"]},{\\\\\\\"properties\\\\\\\":{\\\\\\\"type\\\\\\\":{\\\\\\\"const\\\\\\\":\\\\\\\"topping\\\\\\\"},\\\\\\\"name\\\\\\\":{\\\\\\\"type\\\\\\\":\\\\\\\"string\\\\\\\",\\\\\\\"description\\\\\\\":\\\\\\\"The name of the topping\\\\\\\"},\\\\\\\"quantity\\\\\\\":{\\\\\\\"type\\\\\\\":\\\\\\\"integer\\\\\\\",\\\\\\\"description\\\\\\\":\\\\\\\"The quantity of the topping in the order\\\\\\\"}},\\\\\\\"required\\\\\\\":[\\\\\\\"type\\\\\\\",\\\\\\\"name\\\\\\\",\\\\\\\"quantity\\\\\\\"]}]}}\\\\n*Only return the json part of the response\\\\n*If asked to order anything that is not related to pizza, wings, or drinks, you politely decline.\\\\n\\\"\\n  },\\n  {\\n    \\\"role\\\": \\\"user\\\",\\n    \\\"content\\\": \\\"I want a large pepperoni pie and a 2 liter of coke\\\"\\n  }\\n]\"}, \"model_output\": {\"completions\": [\"[{\\\"type\\\": \\\"specialty pizza\\\", \\\"name\\\": \\\"pepperoni\\\", \\\"size\\\": \\\"large\\\", \\\"crust\\\": \\\"regular\\\", \\\"quantity\\\": 1}, {\\\"type\\\": \\\"drink\\\", \\\"name\\\": \\\"coke\\\", \\\"size\\\": \\\"2 liter\\\", \\\"quantity\\\": 1}]\"]}, \"log\": {}, \"error\": null} \n"
     ]
    },
    {
     "data": {
      "text/plain": [
       "['[{\"type\": \"specialty pizza\", \"name\": \"pepperoni\", \"size\": \"large\", \"crust\": \"regular\", \"quantity\": 1}, {\"type\": \"drink\", \"name\": \"coke\", \"size\": \"2 liter\", \"quantity\": 1}]']"
      ]
     },
     "execution_count": 6,
     "metadata": {},
     "output_type": "execute_result"
    }
   ],
   "source": [
    "user_request = \"\"\"{\"user_nl\":\"I want a large pepperoni pie and a 2 liter of coke\"}\"\"\"\n",
    "data_model = endpoint.execute(user_request)\n",
    "data_model.model_output.completions"
   ]
  },
  {
   "cell_type": "code",
   "execution_count": 7,
   "metadata": {},
   "outputs": [
    {
     "name": "stdout",
     "output_type": "stream",
     "text": [
      "['[{\"type\": \"specialty pizza\", \"name\": \"pepperoni\", \"size\": \"large\", \"crust\": \"regular\", \"quantity\": 1}, {\"type\": \"drink\", \"name\": \"coke\", \"size\": \"2 liter\", \"quantity\": 1}]']\n"
     ]
    }
   ],
   "source": [
    "print(data_model.model_output.completions)"
   ]
  },
  {
   "cell_type": "code",
   "execution_count": 8,
   "metadata": {},
   "outputs": [
    {
     "name": "stdout",
     "output_type": "stream",
     "text": [
      "[\n",
      "  {\n",
      "    \"role\": \"system\",\n",
      "    \"content\": \"*You are bot that takes orders at a pizza and wings restaurant\\n*You take orders in natural language and translate it to a formatted json object\\n*Results should be provided in a structured output that is json format that adheres to this schema\\n    {\\\"$schema\\\":\\\"http://json-schema.org/draft-07/schema#\\\",\\\"type\\\":\\\"array\\\",\\\"description\\\":\\\"An array of items in the order\\\",\\\"items\\\":{\\\"type\\\":\\\"object\\\",\\\"oneOf\\\":[{\\\"properties\\\":{\\\"type\\\":{\\\"const\\\":\\\"specialty pizza\\\"},\\\"name\\\":{\\\"type\\\":\\\"string\\\",\\\"description\\\":\\\"The name of the pizza\\\"},\\\"size\\\":{\\\"type\\\":\\\"string\\\",\\\"description\\\":\\\"The size of the pizza\\\"},\\\"crust\\\":{\\\"type\\\":\\\"string\\\",\\\"description\\\":\\\"The type of crust for the pizza\\\"},\\\"quantity\\\":{\\\"type\\\":\\\"integer\\\",\\\"description\\\":\\\"The quantity of the pizza in the order\\\"}},\\\"required\\\":[\\\"type\\\",\\\"name\\\",\\\"quantity\\\",\\\"size\\\",\\\"crust\\\"]},{\\\"properties\\\":{\\\"type\\\":{\\\"const\\\":\\\"custom pizza\\\"},\\\"size\\\":{\\\"type\\\":\\\"string\\\",\\\"description\\\":\\\"The size of the pizza\\\"},\\\"crust\\\":{\\\"type\\\":\\\"string\\\",\\\"description\\\":\\\"The type of crust for the pizza\\\"},\\\"quantity\\\":{\\\"type\\\":\\\"integer\\\",\\\"description\\\":\\\"The quantity of the pizza in the order\\\"},\\\"toppings\\\":{\\\"type\\\":\\\"array\\\",\\\"description\\\":\\\"An array of toppings on the pizza\\\",\\\"items\\\":{\\\"type\\\":\\\"string\\\",\\\"description\\\":\\\"The name of a topping\\\"}}},\\\"required\\\":[\\\"type\\\",\\\"size\\\",\\\"crust\\\",\\\"quantity\\\",\\\"toppings\\\"]},{\\\"properties\\\":{\\\"type\\\":{\\\"const\\\":\\\"wings\\\"},\\\"name\\\":{\\\"type\\\":\\\"string\\\",\\\"description\\\":\\\"The name of the wings\\\"},\\\"quantity\\\":{\\\"type\\\":\\\"integer\\\",\\\"description\\\":\\\"The quantity of the wings in the order\\\"},\\\"flavor\\\":{\\\"type\\\":\\\"string\\\",\\\"description\\\":\\\"The flavor of the wings\\\"}},\\\"required\\\":[\\\"type\\\",\\\"name\\\",\\\"quantity\\\",\\\"flavor\\\"]},{\\\"properties\\\":{\\\"type\\\":{\\\"const\\\":\\\"drink\\\"},\\\"name\\\":{\\\"type\\\":\\\"string\\\",\\\"description\\\":\\\"The name of the drink\\\"},\\\"quantity\\\":{\\\"type\\\":\\\"integer\\\",\\\"description\\\":\\\"The quantity of the drink in the order\\\"},\\\"size\\\":{\\\"type\\\":\\\"string\\\",\\\"description\\\":\\\"The size of the drink\\\"}},\\\"required\\\":[\\\"type\\\",\\\"name\\\",\\\"quantity\\\",\\\"size\\\"]},{\\\"properties\\\":{\\\"type\\\":{\\\"const\\\":\\\"topping\\\"},\\\"name\\\":{\\\"type\\\":\\\"string\\\",\\\"description\\\":\\\"The name of the topping\\\"},\\\"quantity\\\":{\\\"type\\\":\\\"integer\\\",\\\"description\\\":\\\"The quantity of the topping in the order\\\"}},\\\"required\\\":[\\\"type\\\",\\\"name\\\",\\\"quantity\\\"]}]}}\\n*Only return the json part of the response\\n*If asked to order anything that is not related to pizza, wings, or drinks, you politely decline.\\n\"\n",
      "  },\n",
      "  {\n",
      "    \"role\": \"user\",\n",
      "    \"content\": \"I want a large pepperoni pie and a 2 liter of coke\"\n",
      "  }\n",
      "]\n"
     ]
    }
   ],
   "source": [
    "print(data_model.model_input.prompt)"
   ]
  },
  {
   "cell_type": "code",
   "execution_count": 9,
   "metadata": {},
   "outputs": [
    {
     "name": "stdout",
     "output_type": "stream",
     "text": [
      "{\n",
      "    \"user_nl\": \"I want a large pepperoni pie and a 2 liter of coke\",\n",
      "    \"session_id\": null,\n",
      "    \"session\": null,\n",
      "    \"sequence\": null,\n",
      "    \"complementary_data\": {},\n",
      "    \"metadata\": {\n",
      "        \"solution_id\": \"00\",\n",
      "        \"execution_mode\": \"inference\",\n",
      "        \"run_id\": \"crimson_leg_47dmj0fp7f\",\n",
      "        \"request_id\": null,\n",
      "        \"sequence\": null\n",
      "    }\n",
      "}\n"
     ]
    }
   ],
   "source": [
    "print(data_model.request)"
   ]
  },
  {
   "cell_type": "code",
   "execution_count": 10,
   "metadata": {},
   "outputs": [
    {
     "name": "stdout",
     "output_type": "stream",
     "text": [
      "{\n",
      "    \"request\": {\n",
      "        \"user_nl\": \"A couple of medium pies, pepperoni and a 2 liter coke\",\n",
      "        \"session_id\": null,\n",
      "        \"session\": null,\n",
      "        \"sequence\": null,\n",
      "        \"complementary_data\": {},\n",
      "        \"metadata\": {\n",
      "            \"solution_id\": \"01\",\n",
      "            \"execution_mode\": \"inference\",\n",
      "            \"run_id\": \"mango_spade_2g7dxpww5l\",\n",
      "            \"request_id\": null,\n",
      "            \"sequence\": null\n",
      "        }\n",
      "    },\n",
      "    \"state\": {\n",
      "        \"component_data\": {},\n",
      "        \"context\": [\n",
      "            \"*You are bot that takes orders at a pizza and wings restaurant\\n*You take orders in natural language and translate it to a formatted json object\\n*Results should be provided in a structured output that is json format that adheres to this schema\\n    {\\\"$schema\\\":\\\"http://json-schema.org/draft-07/schema#\\\",\\\"type\\\":\\\"array\\\",\\\"description\\\":\\\"An array of items in the order\\\",\\\"items\\\":{\\\"type\\\":\\\"object\\\",\\\"oneOf\\\":[{\\\"properties\\\":{\\\"type\\\":{\\\"const\\\":\\\"specialty pizza\\\"},\\\"name\\\":{\\\"type\\\":\\\"string\\\",\\\"description\\\":\\\"The name of the pizza\\\"},\\\"size\\\":{\\\"type\\\":\\\"string\\\",\\\"description\\\":\\\"The size of the pizza\\\"},\\\"crust\\\":{\\\"type\\\":\\\"string\\\",\\\"description\\\":\\\"The type of crust for the pizza\\\"},\\\"quantity\\\":{\\\"type\\\":\\\"integer\\\",\\\"description\\\":\\\"The quantity of the pizza in the order\\\"}},\\\"required\\\":[\\\"type\\\",\\\"name\\\",\\\"quantity\\\",\\\"size\\\",\\\"crust\\\"]},{\\\"properties\\\":{\\\"type\\\":{\\\"const\\\":\\\"custom pizza\\\"},\\\"size\\\":{\\\"type\\\":\\\"string\\\",\\\"description\\\":\\\"The size of the pizza\\\"},\\\"crust\\\":{\\\"type\\\":\\\"string\\\",\\\"description\\\":\\\"The type of crust for the pizza\\\"},\\\"quantity\\\":{\\\"type\\\":\\\"integer\\\",\\\"description\\\":\\\"The quantity of the pizza in the order\\\"},\\\"toppings\\\":{\\\"type\\\":\\\"array\\\",\\\"description\\\":\\\"An array of toppings on the pizza\\\",\\\"items\\\":{\\\"type\\\":\\\"string\\\",\\\"description\\\":\\\"The name of a topping\\\"}}},\\\"required\\\":[\\\"type\\\",\\\"size\\\",\\\"crust\\\",\\\"quantity\\\",\\\"toppings\\\"]},{\\\"properties\\\":{\\\"type\\\":{\\\"const\\\":\\\"wings\\\"},\\\"name\\\":{\\\"type\\\":\\\"string\\\",\\\"description\\\":\\\"The name of the wings\\\"},\\\"quantity\\\":{\\\"type\\\":\\\"integer\\\",\\\"description\\\":\\\"The quantity of the wings in the order\\\"},\\\"flavor\\\":{\\\"type\\\":\\\"string\\\",\\\"description\\\":\\\"The flavor of the wings\\\"}},\\\"required\\\":[\\\"type\\\",\\\"name\\\",\\\"quantity\\\",\\\"flavor\\\"]},{\\\"properties\\\":{\\\"type\\\":{\\\"const\\\":\\\"drink\\\"},\\\"name\\\":{\\\"type\\\":\\\"string\\\",\\\"description\\\":\\\"The name of the drink\\\"},\\\"quantity\\\":{\\\"type\\\":\\\"integer\\\",\\\"description\\\":\\\"The quantity of the drink in the order\\\"},\\\"size\\\":{\\\"type\\\":\\\"string\\\",\\\"description\\\":\\\"The size of the drink\\\"}},\\\"required\\\":[\\\"type\\\",\\\"name\\\",\\\"quantity\\\",\\\"size\\\"]},{\\\"properties\\\":{\\\"type\\\":{\\\"const\\\":\\\"topping\\\"},\\\"name\\\":{\\\"type\\\":\\\"string\\\",\\\"description\\\":\\\"The name of the topping\\\"},\\\"quantity\\\":{\\\"type\\\":\\\"integer\\\",\\\"description\\\":\\\"The quantity of the topping in the order\\\"}},\\\"required\\\":[\\\"type\\\",\\\"name\\\",\\\"quantity\\\"]}]}}\\n*If asked to order anything that is not related to pizza, wings, or drinks, you politely decline.\\n\"\n",
      "        ],\n",
      "        \"completion_pairs\": [],\n",
      "        \"session\": [],\n",
      "        \"user_nl\": \"A couple of medium pies, pepperoni and a 2 liter coke\"\n",
      "    },\n",
      "    \"model_input\": {\n",
      "        \"prompt\": \"[\\n  {\\n    \\\"role\\\": \\\"system\\\",\\n    \\\"content\\\": \\\"*You are bot that takes orders at a pizza and wings restaurant\\\\n*You take orders in natural language and translate it to a formatted json object\\\\n*Results should be provided in a structured output that is json format that adheres to this schema\\\\n    {\\\\\\\"$schema\\\\\\\":\\\\\\\"http://json-schema.org/draft-07/schema#\\\\\\\",\\\\\\\"type\\\\\\\":\\\\\\\"array\\\\\\\",\\\\\\\"description\\\\\\\":\\\\\\\"An array of items in the order\\\\\\\",\\\\\\\"items\\\\\\\":{\\\\\\\"type\\\\\\\":\\\\\\\"object\\\\\\\",\\\\\\\"oneOf\\\\\\\":[{\\\\\\\"properties\\\\\\\":{\\\\\\\"type\\\\\\\":{\\\\\\\"const\\\\\\\":\\\\\\\"specialty pizza\\\\\\\"},\\\\\\\"name\\\\\\\":{\\\\\\\"type\\\\\\\":\\\\\\\"string\\\\\\\",\\\\\\\"description\\\\\\\":\\\\\\\"The name of the pizza\\\\\\\"},\\\\\\\"size\\\\\\\":{\\\\\\\"type\\\\\\\":\\\\\\\"string\\\\\\\",\\\\\\\"description\\\\\\\":\\\\\\\"The size of the pizza\\\\\\\"},\\\\\\\"crust\\\\\\\":{\\\\\\\"type\\\\\\\":\\\\\\\"string\\\\\\\",\\\\\\\"description\\\\\\\":\\\\\\\"The type of crust for the pizza\\\\\\\"},\\\\\\\"quantity\\\\\\\":{\\\\\\\"type\\\\\\\":\\\\\\\"integer\\\\\\\",\\\\\\\"description\\\\\\\":\\\\\\\"The quantity of the pizza in the order\\\\\\\"}},\\\\\\\"required\\\\\\\":[\\\\\\\"type\\\\\\\",\\\\\\\"name\\\\\\\",\\\\\\\"quantity\\\\\\\",\\\\\\\"size\\\\\\\",\\\\\\\"crust\\\\\\\"]},{\\\\\\\"properties\\\\\\\":{\\\\\\\"type\\\\\\\":{\\\\\\\"const\\\\\\\":\\\\\\\"custom pizza\\\\\\\"},\\\\\\\"size\\\\\\\":{\\\\\\\"type\\\\\\\":\\\\\\\"string\\\\\\\",\\\\\\\"description\\\\\\\":\\\\\\\"The size of the pizza\\\\\\\"},\\\\\\\"crust\\\\\\\":{\\\\\\\"type\\\\\\\":\\\\\\\"string\\\\\\\",\\\\\\\"description\\\\\\\":\\\\\\\"The type of crust for the pizza\\\\\\\"},\\\\\\\"quantity\\\\\\\":{\\\\\\\"type\\\\\\\":\\\\\\\"integer\\\\\\\",\\\\\\\"description\\\\\\\":\\\\\\\"The quantity of the pizza in the order\\\\\\\"},\\\\\\\"toppings\\\\\\\":{\\\\\\\"type\\\\\\\":\\\\\\\"array\\\\\\\",\\\\\\\"description\\\\\\\":\\\\\\\"An array of toppings on the pizza\\\\\\\",\\\\\\\"items\\\\\\\":{\\\\\\\"type\\\\\\\":\\\\\\\"string\\\\\\\",\\\\\\\"description\\\\\\\":\\\\\\\"The name of a topping\\\\\\\"}}},\\\\\\\"required\\\\\\\":[\\\\\\\"type\\\\\\\",\\\\\\\"size\\\\\\\",\\\\\\\"crust\\\\\\\",\\\\\\\"quantity\\\\\\\",\\\\\\\"toppings\\\\\\\"]},{\\\\\\\"properties\\\\\\\":{\\\\\\\"type\\\\\\\":{\\\\\\\"const\\\\\\\":\\\\\\\"wings\\\\\\\"},\\\\\\\"name\\\\\\\":{\\\\\\\"type\\\\\\\":\\\\\\\"string\\\\\\\",\\\\\\\"description\\\\\\\":\\\\\\\"The name of the wings\\\\\\\"},\\\\\\\"quantity\\\\\\\":{\\\\\\\"type\\\\\\\":\\\\\\\"integer\\\\\\\",\\\\\\\"description\\\\\\\":\\\\\\\"The quantity of the wings in the order\\\\\\\"},\\\\\\\"flavor\\\\\\\":{\\\\\\\"type\\\\\\\":\\\\\\\"string\\\\\\\",\\\\\\\"description\\\\\\\":\\\\\\\"The flavor of the wings\\\\\\\"}},\\\\\\\"required\\\\\\\":[\\\\\\\"type\\\\\\\",\\\\\\\"name\\\\\\\",\\\\\\\"quantity\\\\\\\",\\\\\\\"flavor\\\\\\\"]},{\\\\\\\"properties\\\\\\\":{\\\\\\\"type\\\\\\\":{\\\\\\\"const\\\\\\\":\\\\\\\"drink\\\\\\\"},\\\\\\\"name\\\\\\\":{\\\\\\\"type\\\\\\\":\\\\\\\"string\\\\\\\",\\\\\\\"description\\\\\\\":\\\\\\\"The name of the drink\\\\\\\"},\\\\\\\"quantity\\\\\\\":{\\\\\\\"type\\\\\\\":\\\\\\\"integer\\\\\\\",\\\\\\\"description\\\\\\\":\\\\\\\"The quantity of the drink in the order\\\\\\\"},\\\\\\\"size\\\\\\\":{\\\\\\\"type\\\\\\\":\\\\\\\"string\\\\\\\",\\\\\\\"description\\\\\\\":\\\\\\\"The size of the drink\\\\\\\"}},\\\\\\\"required\\\\\\\":[\\\\\\\"type\\\\\\\",\\\\\\\"name\\\\\\\",\\\\\\\"quantity\\\\\\\",\\\\\\\"size\\\\\\\"]},{\\\\\\\"properties\\\\\\\":{\\\\\\\"type\\\\\\\":{\\\\\\\"const\\\\\\\":\\\\\\\"topping\\\\\\\"},\\\\\\\"name\\\\\\\":{\\\\\\\"type\\\\\\\":\\\\\\\"string\\\\\\\",\\\\\\\"description\\\\\\\":\\\\\\\"The name of the topping\\\\\\\"},\\\\\\\"quantity\\\\\\\":{\\\\\\\"type\\\\\\\":\\\\\\\"integer\\\\\\\",\\\\\\\"description\\\\\\\":\\\\\\\"The quantity of the topping in the order\\\\\\\"}},\\\\\\\"required\\\\\\\":[\\\\\\\"type\\\\\\\",\\\\\\\"name\\\\\\\",\\\\\\\"quantity\\\\\\\"]}]}}\\\\n*If asked to order anything that is not related to pizza, wings, or drinks, you politely decline.\\\\n\\\"\\n  },\\n  {\\n    \\\"role\\\": \\\"user\\\",\\n    \\\"content\\\": \\\"A couple of medium pies, pepperoni and a 2 liter coke\\\"\\n  }\\n]\"\n",
      "    },\n",
      "    \"model_output\": {\n",
      "        \"completions\": [\n",
      "            \"[\\n  {\\n    \\\"type\\\": \\\"specialty pizza\\\",\\n    \\\"name\\\": \\\"pepperoni\\\",\\n    \\\"size\\\": \\\"medium\\\",\\n    \\\"crust\\\": \\\"regular\\\",\\n    \\\"quantity\\\": 2\\n  },\\n  {\\n    \\\"type\\\": \\\"drink\\\",\\n    \\\"name\\\": \\\"coke\\\",\\n    \\\"size\\\": \\\"2 liter\\\",\\n    \\\"quantity\\\": 1\\n  }\\n]\"\n",
      "        ]\n",
      "    },\n",
      "    \"log\": {},\n",
      "    \"error\": null\n",
      "}\n"
     ]
    }
   ],
   "source": [
    "print(data_model)"
   ]
  }
 ],
 "metadata": {
  "kernelspec": {
   "display_name": "ffmodel",
   "language": "python",
   "name": "python3"
  },
  "language_info": {
   "codemirror_mode": {
    "name": "ipython",
    "version": 3
   },
   "file_extension": ".py",
   "mimetype": "text/x-python",
   "name": "python",
   "nbconvert_exporter": "python",
   "pygments_lexer": "ipython3",
   "version": "3.10.13"
  },
  "orig_nbformat": 4
 },
 "nbformat": 4,
 "nbformat_minor": 2
}
